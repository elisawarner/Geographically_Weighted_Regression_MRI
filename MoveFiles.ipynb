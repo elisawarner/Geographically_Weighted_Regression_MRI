{
 "cells": [
  {
   "cell_type": "markdown",
   "metadata": {},
   "source": [
    "# Move Files"
   ]
  },
  {
   "cell_type": "markdown",
   "metadata": {},
   "source": [
    "Author : Elisa Warner  \n",
    "Date: 01/04/2023  \n",
    "Description: This code is for all file manipulation tasks for the Pseudoprogression Project.  \n",
    "Notes: I'm thinking of making 5 copies of folders for the psuedoprogression patients. And then manipulate the slice file so that the chosen slice is -1 or -2 or whatever for each copy.  "
   ]
  },
  {
   "cell_type": "markdown",
   "metadata": {},
   "source": [
    "Psuedoprogression labels"
   ]
  },
  {
   "cell_type": "code",
   "execution_count": 1,
   "metadata": {},
   "outputs": [],
   "source": [
    "pseudo = ['3-1', '6-1', '11-1', '17-1', '21-1', '33-1', '38-1', '7-1', '41-1', '47-1', '48-1', '49-1', '50-1']"
   ]
  },
  {
   "cell_type": "code",
   "execution_count": 2,
   "metadata": {},
   "outputs": [],
   "source": [
    "from os import listdir\n",
    "from distutils.dir_util import copy_tree"
   ]
  },
  {
   "cell_type": "code",
   "execution_count": 3,
   "metadata": {},
   "outputs": [],
   "source": [
    "srcPath = \"MRI_full\""
   ]
  },
  {
   "cell_type": "code",
   "execution_count": 4,
   "metadata": {},
   "outputs": [],
   "source": [
    "for folder in pseudo:\n",
    "    for addStr in ['-1','-2','+1','+2']:\n",
    "        copy_tree(srcPath + \"/%s\" % folder, srcPath + \"/%s%s\" % (folder, addStr))"
   ]
  },
  {
   "cell_type": "code",
   "execution_count": null,
   "metadata": {},
   "outputs": [],
   "source": []
  }
 ],
 "metadata": {
  "kernelspec": {
   "display_name": "Python 3 (ipykernel)",
   "language": "python",
   "name": "python3"
  },
  "language_info": {
   "codemirror_mode": {
    "name": "ipython",
    "version": 3
   },
   "file_extension": ".py",
   "mimetype": "text/x-python",
   "name": "python",
   "nbconvert_exporter": "python",
   "pygments_lexer": "ipython3",
   "version": "3.9.13"
  }
 },
 "nbformat": 4,
 "nbformat_minor": 4
}

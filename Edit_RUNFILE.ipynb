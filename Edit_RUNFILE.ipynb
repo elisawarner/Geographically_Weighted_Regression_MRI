{
 "cells": [
  {
   "cell_type": "code",
   "execution_count": 1,
   "id": "68b32d66",
   "metadata": {},
   "outputs": [],
   "source": [
    "import os\n",
    "import csv"
   ]
  },
  {
   "cell_type": "code",
   "execution_count": 12,
   "id": "9e772917",
   "metadata": {},
   "outputs": [],
   "source": [
    "folders = os.listdir('MRI_raw')"
   ]
  },
  {
   "cell_type": "code",
   "execution_count": 13,
   "id": "93ddd59d",
   "metadata": {},
   "outputs": [],
   "source": [
    "import pandas as pd\n",
    "\n",
    "df = pd.read_csv(\"Data/ws_success_ref.txt\")\n",
    "folders = [x for x in folders if x in df['x'].values or x[:-2] in df['x'].values]"
   ]
  },
  {
   "cell_type": "code",
   "execution_count": 15,
   "id": "11ccba67",
   "metadata": {},
   "outputs": [],
   "source": [
    "with open(\"Data/ws_success.txt\",\"w\") as f:\n",
    "    f.write(\"\\\"x\\\"\\n\")\n",
    "    \n",
    "    for i, foldername in enumerate(folders):\n",
    "        outstr = \"\\\"%s\\\",\\\"%s\\\"\\n\" % (i,foldername)\n",
    "        f.write(outstr)"
   ]
  },
  {
   "cell_type": "code",
   "execution_count": null,
   "id": "b7c6f407",
   "metadata": {},
   "outputs": [],
   "source": []
  }
 ],
 "metadata": {
  "kernelspec": {
   "display_name": "Python 3 (ipykernel)",
   "language": "python",
   "name": "python3"
  },
  "language_info": {
   "codemirror_mode": {
    "name": "ipython",
    "version": 3
   },
   "file_extension": ".py",
   "mimetype": "text/x-python",
   "name": "python",
   "nbconvert_exporter": "python",
   "pygments_lexer": "ipython3",
   "version": "3.9.13"
  }
 },
 "nbformat": 4,
 "nbformat_minor": 5
}

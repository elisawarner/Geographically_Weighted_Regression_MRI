{
 "cells": [
  {
   "cell_type": "markdown",
   "id": "74cd6dd7-e344-4efa-b200-3e3fd10f64d8",
   "metadata": {},
   "source": [
    "# Residual Analysis Notebook\n",
    "**Creator/Author:** Elisa Warner  \n",
    "**Date of last update:** 3/3/2023  \n",
    "**Description:** I ran multiple statistical tests and created different graphics here. Please use this notebook as some ideas of what you might want to do with the data but do NOT try to run from start to finish. it is very likely you won't have all the data to do that \n",
    "(some of the code reqires clinical data).\n",
    "**Questions? Contact:** elisawa@umich.edu"
   ]
  },
  {
   "cell_type": "markdown",
   "id": "8f69635c",
   "metadata": {
    "tags": []
   },
   "source": [
    "# Run Naive Bayes"
   ]
  },
  {
   "cell_type": "markdown",
   "id": "dd30ebc7",
   "metadata": {},
   "source": [
    "Note: 0 is missing, 1 is negative, 2 is positive"
   ]
  },
  {
   "cell_type": "raw",
   "id": "cff66013-a098-4acb-b345-51986f057f1f",
   "metadata": {},
   "source": [
    "!pip install pyreadr"
   ]
  },
  {
   "cell_type": "code",
   "execution_count": 1,
   "id": "de7403ff",
   "metadata": {},
   "outputs": [],
   "source": [
    "import pyreadr\n",
    "import pandas as pd\n",
    "import matplotlib.pyplot as plt\n",
    "from scipy.stats import ttest_ind\n",
    "from tqdm.notebook import tqdm\n",
    "import numpy as np\n",
    "from glob import glob"
   ]
  },
  {
   "cell_type": "code",
   "execution_count": null,
   "id": "165d5d8f",
   "metadata": {},
   "outputs": [],
   "source": [
    "root = \"Z:\"\n",
    "allFiles = glob(root + \"/.../1Pseudoprogression/UPenn-UMich Code Sharing/Data_Full42_2023/*/*.RData\")\n",
    "allFiles"
   ]
  },
  {
   "cell_type": "code",
   "execution_count": 3,
   "id": "08fccb88",
   "metadata": {},
   "outputs": [],
   "source": [
    "resd = {}\n",
    "names = {}\n",
    "\n",
    "for f in allFiles:\n",
    "    resd[f] = pyreadr.read_r(f)['den']\n",
    "    resd[f] = resd[f][list(resd[f])[::2]]"
   ]
  },
  {
   "cell_type": "code",
   "execution_count": 4,
   "id": "08a31d04",
   "metadata": {},
   "outputs": [],
   "source": [
    "# test: remove all -2s \n",
    "ridx = [x for x in resd[f].index.values if x[-1] != \"2\"]\n",
    "\n",
    "for f in allFiles:\n",
    "    resd[f] = resd[f].loc[ridx]"
   ]
  },
  {
   "cell_type": "code",
   "execution_count": 5,
   "id": "da109d62",
   "metadata": {},
   "outputs": [],
   "source": [
    "eighty = np.quantile(resd[f].std(),.80)"
   ]
  },
  {
   "cell_type": "code",
   "execution_count": 6,
   "id": "522d535f",
   "metadata": {},
   "outputs": [
    {
     "name": "stdout",
     "output_type": "stream",
     "text": [
      "400\n",
      "0.4011035638262303\n"
     ]
    },
    {
     "data": {
      "image/png": "[encoded data removed]",
      "text/plain": [
       "<Figure size 432x288 with 1 Axes>"
      ]
     },
     "metadata": {
      "needs_background": "light"
     },
     "output_type": "display_data"
    }
   ],
   "source": [
    "shift = 0\n",
    "x = [x for x in sorted(resd[f].std())]\n",
    "\n",
    "x_idx = np.where(np.array(x) > eighty)[0][0]\n",
    "print(x_idx)\n",
    "\n",
    "x = x[shift:]\n",
    "x_idx = x_idx - shift\n",
    "plt.plot(range(shift, len(x) + shift),x)\n",
    "plt.scatter(shift + x_idx, x[x_idx], c=\"red\")\n",
    "plt.title(\"Sorted STD\")\n",
    "print(x[x_idx])"
   ]
  },
  {
   "cell_type": "code",
   "execution_count": 7,
   "id": "03dfc7fa",
   "metadata": {},
   "outputs": [],
   "source": [
    "## Load clinical"
   ]
  },
  {
   "cell_type": "code",
   "execution_count": 8,
   "id": "77e1bddc",
   "metadata": {},
   "outputs": [],
   "source": [
    "clinicalx = pd.read_csv(\"../clinical.csv\")"
   ]
  },
  {
   "cell_type": "code",
   "execution_count": 9,
   "id": "b13015a9",
   "metadata": {},
   "outputs": [
    {
     "data": {
      "text/plain": [
       "['ID',\n",
       " 'Sex',\n",
       " 'Age',\n",
       " 'Psuedo',\n",
       " 'IDH1_status',\n",
       " 'status_1p19q',\n",
       " 'EGFR_status',\n",
       " 'P53_status']"
      ]
     },
     "execution_count": 9,
     "metadata": {},
     "output_type": "execute_result"
    }
   ],
   "source": [
    "list(clinicalx)"
   ]
  },
  {
   "cell_type": "code",
   "execution_count": 10,
   "id": "acc5d4dd",
   "metadata": {},
   "outputs": [],
   "source": [
    "clinical = pd.DataFrame()\n",
    "\n",
    "for patid in resd[f].index.values:\n",
    "    sub = clinicalx[clinicalx['ID'] == patid]\n",
    "    clinical = clinical.append(sub)"
   ]
  },
  {
   "cell_type": "code",
   "execution_count": 11,
   "id": "f2e2c02b",
   "metadata": {},
   "outputs": [],
   "source": [
    "clinical = clinical.rename(index=dict(zip(list(clinical.index.values), list(clinical['ID']))))\n",
    "clinical = clinical.replace({'M':0, 'F':1})    "
   ]
  },
  {
   "cell_type": "code",
   "execution_count": 12,
   "id": "8b14e09b",
   "metadata": {},
   "outputs": [
    {
     "data": {
      "text/html": [
       "<div>\n",
       "<style scoped>\n",
       "    .dataframe tbody tr th:only-of-type {\n",
       "        vertical-align: middle;\n",
       "    }\n",
       "\n",
       "    .dataframe tbody tr th {\n",
       "        vertical-align: top;\n",
       "    }\n",
       "\n",
       "    .dataframe thead th {\n",
       "        text-align: right;\n",
       "    }\n",
       "</style>\n",
       "<table border=\"1\" class=\"dataframe\">\n",
       "  <thead>\n",
       "    <tr style=\"text-align: right;\">\n",
       "      <th></th>\n",
       "      <th>ID</th>\n",
       "      <th>Sex</th>\n",
       "      <th>Age</th>\n",
       "      <th>Psuedo</th>\n",
       "      <th>IDH1_status</th>\n",
       "      <th>status_1p19q</th>\n",
       "      <th>EGFR_status</th>\n",
       "      <th>P53_status</th>\n",
       "    </tr>\n",
       "  </thead>\n",
       "  <tbody>\n",
       "    <tr>\n",
       "      <th>1-1</th>\n",
       "      <td>1-1</td>\n",
       "      <td>0</td>\n",
       "      <td>31</td>\n",
       "      <td>0</td>\n",
       "      <td>0</td>\n",
       "      <td>0</td>\n",
       "      <td>2</td>\n",
       "      <td>1</td>\n",
       "    </tr>\n",
       "    <tr>\n",
       "      <th>11-1</th>\n",
       "      <td>11-1</td>\n",
       "      <td>0</td>\n",
       "      <td>51</td>\n",
       "      <td>1</td>\n",
       "      <td>2</td>\n",
       "      <td>2</td>\n",
       "      <td>2</td>\n",
       "      <td>1</td>\n",
       "    </tr>\n",
       "    <tr>\n",
       "      <th>12-1</th>\n",
       "      <td>12-1</td>\n",
       "      <td>0</td>\n",
       "      <td>62</td>\n",
       "      <td>0</td>\n",
       "      <td>2</td>\n",
       "      <td>0</td>\n",
       "      <td>0</td>\n",
       "      <td>1</td>\n",
       "    </tr>\n",
       "    <tr>\n",
       "      <th>13-1</th>\n",
       "      <td>13-1</td>\n",
       "      <td>1</td>\n",
       "      <td>59</td>\n",
       "      <td>0</td>\n",
       "      <td>1</td>\n",
       "      <td>0</td>\n",
       "      <td>2</td>\n",
       "      <td>2</td>\n",
       "    </tr>\n",
       "    <tr>\n",
       "      <th>14-1</th>\n",
       "      <td>14-1</td>\n",
       "      <td>0</td>\n",
       "      <td>38</td>\n",
       "      <td>0</td>\n",
       "      <td>2</td>\n",
       "      <td>2</td>\n",
       "      <td>0</td>\n",
       "      <td>1</td>\n",
       "    </tr>\n",
       "    <tr>\n",
       "      <th>15-1</th>\n",
       "      <td>15-1</td>\n",
       "      <td>1</td>\n",
       "      <td>67</td>\n",
       "      <td>0</td>\n",
       "      <td>1</td>\n",
       "      <td>0</td>\n",
       "      <td>2</td>\n",
       "      <td>2</td>\n",
       "    </tr>\n",
       "    <tr>\n",
       "      <th>16-1</th>\n",
       "      <td>16-1</td>\n",
       "      <td>1</td>\n",
       "      <td>70</td>\n",
       "      <td>0</td>\n",
       "      <td>1</td>\n",
       "      <td>0</td>\n",
       "      <td>2</td>\n",
       "      <td>2</td>\n",
       "    </tr>\n",
       "    <tr>\n",
       "      <th>17-1</th>\n",
       "      <td>17-1</td>\n",
       "      <td>0</td>\n",
       "      <td>31</td>\n",
       "      <td>1</td>\n",
       "      <td>1</td>\n",
       "      <td>0</td>\n",
       "      <td>0</td>\n",
       "      <td>0</td>\n",
       "    </tr>\n",
       "    <tr>\n",
       "      <th>18-1</th>\n",
       "      <td>18-1</td>\n",
       "      <td>0</td>\n",
       "      <td>65</td>\n",
       "      <td>0</td>\n",
       "      <td>1</td>\n",
       "      <td>2</td>\n",
       "      <td>0</td>\n",
       "      <td>0</td>\n",
       "    </tr>\n",
       "    <tr>\n",
       "      <th>19-1</th>\n",
       "      <td>19-1</td>\n",
       "      <td>1</td>\n",
       "      <td>35</td>\n",
       "      <td>0</td>\n",
       "      <td>0</td>\n",
       "      <td>1</td>\n",
       "      <td>0</td>\n",
       "      <td>0</td>\n",
       "    </tr>\n",
       "    <tr>\n",
       "      <th>2-1</th>\n",
       "      <td>2-1</td>\n",
       "      <td>0</td>\n",
       "      <td>27</td>\n",
       "      <td>0</td>\n",
       "      <td>2</td>\n",
       "      <td>0</td>\n",
       "      <td>0</td>\n",
       "      <td>2</td>\n",
       "    </tr>\n",
       "    <tr>\n",
       "      <th>21-1</th>\n",
       "      <td>21-1</td>\n",
       "      <td>1</td>\n",
       "      <td>55</td>\n",
       "      <td>1</td>\n",
       "      <td>2</td>\n",
       "      <td>2</td>\n",
       "      <td>0</td>\n",
       "      <td>2</td>\n",
       "    </tr>\n",
       "    <tr>\n",
       "      <th>22-1</th>\n",
       "      <td>22-1</td>\n",
       "      <td>0</td>\n",
       "      <td>45</td>\n",
       "      <td>0</td>\n",
       "      <td>1</td>\n",
       "      <td>0</td>\n",
       "      <td>0</td>\n",
       "      <td>2</td>\n",
       "    </tr>\n",
       "    <tr>\n",
       "      <th>23-1</th>\n",
       "      <td>23-1</td>\n",
       "      <td>0</td>\n",
       "      <td>53</td>\n",
       "      <td>0</td>\n",
       "      <td>2</td>\n",
       "      <td>2</td>\n",
       "      <td>0</td>\n",
       "      <td>0</td>\n",
       "    </tr>\n",
       "    <tr>\n",
       "      <th>25-1</th>\n",
       "      <td>25-1</td>\n",
       "      <td>0</td>\n",
       "      <td>55</td>\n",
       "      <td>0</td>\n",
       "      <td>0</td>\n",
       "      <td>0</td>\n",
       "      <td>0</td>\n",
       "      <td>0</td>\n",
       "    </tr>\n",
       "    <tr>\n",
       "      <th>26-1</th>\n",
       "      <td>26-1</td>\n",
       "      <td>0</td>\n",
       "      <td>57</td>\n",
       "      <td>0</td>\n",
       "      <td>1</td>\n",
       "      <td>0</td>\n",
       "      <td>0</td>\n",
       "      <td>0</td>\n",
       "    </tr>\n",
       "    <tr>\n",
       "      <th>27-1</th>\n",
       "      <td>27-1</td>\n",
       "      <td>1</td>\n",
       "      <td>51</td>\n",
       "      <td>0</td>\n",
       "      <td>0</td>\n",
       "      <td>0</td>\n",
       "      <td>0</td>\n",
       "      <td>0</td>\n",
       "    </tr>\n",
       "    <tr>\n",
       "      <th>28-1</th>\n",
       "      <td>28-1</td>\n",
       "      <td>0</td>\n",
       "      <td>67</td>\n",
       "      <td>0</td>\n",
       "      <td>0</td>\n",
       "      <td>0</td>\n",
       "      <td>0</td>\n",
       "      <td>0</td>\n",
       "    </tr>\n",
       "    <tr>\n",
       "      <th>3-1</th>\n",
       "      <td>3-1</td>\n",
       "      <td>0</td>\n",
       "      <td>66</td>\n",
       "      <td>1</td>\n",
       "      <td>1</td>\n",
       "      <td>0</td>\n",
       "      <td>0</td>\n",
       "      <td>2</td>\n",
       "    </tr>\n",
       "    <tr>\n",
       "      <th>31-1</th>\n",
       "      <td>31-1</td>\n",
       "      <td>1</td>\n",
       "      <td>52</td>\n",
       "      <td>0</td>\n",
       "      <td>2</td>\n",
       "      <td>2</td>\n",
       "      <td>0</td>\n",
       "      <td>1</td>\n",
       "    </tr>\n",
       "    <tr>\n",
       "      <th>33-1</th>\n",
       "      <td>33-1</td>\n",
       "      <td>0</td>\n",
       "      <td>51</td>\n",
       "      <td>1</td>\n",
       "      <td>2</td>\n",
       "      <td>0</td>\n",
       "      <td>0</td>\n",
       "      <td>0</td>\n",
       "    </tr>\n",
       "    <tr>\n",
       "      <th>34-1</th>\n",
       "      <td>34-1</td>\n",
       "      <td>0</td>\n",
       "      <td>55</td>\n",
       "      <td>0</td>\n",
       "      <td>1</td>\n",
       "      <td>0</td>\n",
       "      <td>0</td>\n",
       "      <td>0</td>\n",
       "    </tr>\n",
       "    <tr>\n",
       "      <th>35-1</th>\n",
       "      <td>35-1</td>\n",
       "      <td>1</td>\n",
       "      <td>40</td>\n",
       "      <td>0</td>\n",
       "      <td>2</td>\n",
       "      <td>0</td>\n",
       "      <td>0</td>\n",
       "      <td>0</td>\n",
       "    </tr>\n",
       "    <tr>\n",
       "      <th>36-1</th>\n",
       "      <td>36-1</td>\n",
       "      <td>1</td>\n",
       "      <td>39</td>\n",
       "      <td>0</td>\n",
       "      <td>2</td>\n",
       "      <td>0</td>\n",
       "      <td>0</td>\n",
       "      <td>1</td>\n",
       "    </tr>\n",
       "    <tr>\n",
       "      <th>37-1</th>\n",
       "      <td>37-1</td>\n",
       "      <td>0</td>\n",
       "      <td>52</td>\n",
       "      <td>0</td>\n",
       "      <td>1</td>\n",
       "      <td>0</td>\n",
       "      <td>0</td>\n",
       "      <td>2</td>\n",
       "    </tr>\n",
       "    <tr>\n",
       "      <th>38-1</th>\n",
       "      <td>38-1</td>\n",
       "      <td>0</td>\n",
       "      <td>16</td>\n",
       "      <td>1</td>\n",
       "      <td>0</td>\n",
       "      <td>0</td>\n",
       "      <td>2</td>\n",
       "      <td>2</td>\n",
       "    </tr>\n",
       "    <tr>\n",
       "      <th>39-1</th>\n",
       "      <td>39-1</td>\n",
       "      <td>1</td>\n",
       "      <td>74</td>\n",
       "      <td>0</td>\n",
       "      <td>0</td>\n",
       "      <td>0</td>\n",
       "      <td>0</td>\n",
       "      <td>2</td>\n",
       "    </tr>\n",
       "    <tr>\n",
       "      <th>40-1</th>\n",
       "      <td>40-1</td>\n",
       "      <td>0</td>\n",
       "      <td>56</td>\n",
       "      <td>0</td>\n",
       "      <td>0</td>\n",
       "      <td>0</td>\n",
       "      <td>0</td>\n",
       "      <td>0</td>\n",
       "    </tr>\n",
       "    <tr>\n",
       "      <th>41-1</th>\n",
       "      <td>41-1</td>\n",
       "      <td>1</td>\n",
       "      <td>32</td>\n",
       "      <td>1</td>\n",
       "      <td>2</td>\n",
       "      <td>0</td>\n",
       "      <td>0</td>\n",
       "      <td>2</td>\n",
       "    </tr>\n",
       "    <tr>\n",
       "      <th>42-1</th>\n",
       "      <td>42-1</td>\n",
       "      <td>1</td>\n",
       "      <td>67</td>\n",
       "      <td>0</td>\n",
       "      <td>1</td>\n",
       "      <td>0</td>\n",
       "      <td>0</td>\n",
       "      <td>0</td>\n",
       "    </tr>\n",
       "    <tr>\n",
       "      <th>43-1</th>\n",
       "      <td>43-1</td>\n",
       "      <td>0</td>\n",
       "      <td>64</td>\n",
       "      <td>0</td>\n",
       "      <td>1</td>\n",
       "      <td>1</td>\n",
       "      <td>0</td>\n",
       "      <td>2</td>\n",
       "    </tr>\n",
       "    <tr>\n",
       "      <th>44-1</th>\n",
       "      <td>44-1</td>\n",
       "      <td>1</td>\n",
       "      <td>68</td>\n",
       "      <td>0</td>\n",
       "      <td>1</td>\n",
       "      <td>1</td>\n",
       "      <td>2</td>\n",
       "      <td>2</td>\n",
       "    </tr>\n",
       "    <tr>\n",
       "      <th>46-1</th>\n",
       "      <td>46-1</td>\n",
       "      <td>0</td>\n",
       "      <td>27</td>\n",
       "      <td>0</td>\n",
       "      <td>2</td>\n",
       "      <td>0</td>\n",
       "      <td>0</td>\n",
       "      <td>2</td>\n",
       "    </tr>\n",
       "    <tr>\n",
       "      <th>47-1</th>\n",
       "      <td>47-1</td>\n",
       "      <td>0</td>\n",
       "      <td>37</td>\n",
       "      <td>1</td>\n",
       "      <td>1</td>\n",
       "      <td>0</td>\n",
       "      <td>0</td>\n",
       "      <td>1</td>\n",
       "    </tr>\n",
       "    <tr>\n",
       "      <th>48-1</th>\n",
       "      <td>48-1</td>\n",
       "      <td>0</td>\n",
       "      <td>36</td>\n",
       "      <td>1</td>\n",
       "      <td>1</td>\n",
       "      <td>0</td>\n",
       "      <td>0</td>\n",
       "      <td>1</td>\n",
       "    </tr>\n",
       "    <tr>\n",
       "      <th>49-1</th>\n",
       "      <td>49-1</td>\n",
       "      <td>1</td>\n",
       "      <td>67</td>\n",
       "      <td>1</td>\n",
       "      <td>2</td>\n",
       "      <td>0</td>\n",
       "      <td>2</td>\n",
       "      <td>2</td>\n",
       "    </tr>\n",
       "    <tr>\n",
       "      <th>5-1</th>\n",
       "      <td>5-1</td>\n",
       "      <td>0</td>\n",
       "      <td>62</td>\n",
       "      <td>0</td>\n",
       "      <td>1</td>\n",
       "      <td>0</td>\n",
       "      <td>0</td>\n",
       "      <td>2</td>\n",
       "    </tr>\n",
       "    <tr>\n",
       "      <th>50-1</th>\n",
       "      <td>50-1</td>\n",
       "      <td>0</td>\n",
       "      <td>51</td>\n",
       "      <td>1</td>\n",
       "      <td>1</td>\n",
       "      <td>0</td>\n",
       "      <td>2</td>\n",
       "      <td>2</td>\n",
       "    </tr>\n",
       "    <tr>\n",
       "      <th>6-1</th>\n",
       "      <td>6-1</td>\n",
       "      <td>0</td>\n",
       "      <td>53</td>\n",
       "      <td>1</td>\n",
       "      <td>1</td>\n",
       "      <td>2</td>\n",
       "      <td>0</td>\n",
       "      <td>1</td>\n",
       "    </tr>\n",
       "    <tr>\n",
       "      <th>7-1</th>\n",
       "      <td>7-1</td>\n",
       "      <td>1</td>\n",
       "      <td>48</td>\n",
       "      <td>1</td>\n",
       "      <td>0</td>\n",
       "      <td>0</td>\n",
       "      <td>0</td>\n",
       "      <td>0</td>\n",
       "    </tr>\n",
       "    <tr>\n",
       "      <th>8-1</th>\n",
       "      <td>8-1</td>\n",
       "      <td>1</td>\n",
       "      <td>51</td>\n",
       "      <td>0</td>\n",
       "      <td>1</td>\n",
       "      <td>0</td>\n",
       "      <td>0</td>\n",
       "      <td>0</td>\n",
       "    </tr>\n",
       "    <tr>\n",
       "      <th>9-1</th>\n",
       "      <td>9-1</td>\n",
       "      <td>0</td>\n",
       "      <td>58</td>\n",
       "      <td>0</td>\n",
       "      <td>1</td>\n",
       "      <td>0</td>\n",
       "      <td>0</td>\n",
       "      <td>2</td>\n",
       "    </tr>\n",
       "  </tbody>\n",
       "</table>\n",
       "</div>"
      ],
      "text/plain": [
       "        ID  Sex  Age  Psuedo  IDH1_status  status_1p19q  EGFR_status  \\\n",
       "1-1    1-1    0   31       0            0             0            2   \n",
       "11-1  11-1    0   51       1            2             2            2   \n",
       "12-1  12-1    0   62       0            2             0            0   \n",
       "13-1  13-1    1   59       0            1             0            2   \n",
       "14-1  14-1    0   38       0            2             2            0   \n",
       "15-1  15-1    1   67       0            1             0            2   \n",
       "16-1  16-1    1   70       0            1             0            2   \n",
       "17-1  17-1    0   31       1            1             0            0   \n",
       "18-1  18-1    0   65       0            1             2            0   \n",
       "19-1  19-1    1   35       0            0             1            0   \n",
       "2-1    2-1    0   27       0            2             0            0   \n",
       "21-1  21-1    1   55       1            2             2            0   \n",
       "22-1  22-1    0   45       0            1             0            0   \n",
       "23-1  23-1    0   53       0            2             2            0   \n",
       "25-1  25-1    0   55       0            0             0            0   \n",
       "26-1  26-1    0   57       0            1             0            0   \n",
       "27-1  27-1    1   51       0            0             0            0   \n",
       "28-1  28-1    0   67       0            0             0            0   \n",
       "3-1    3-1    0   66       1            1             0            0   \n",
       "31-1  31-1    1   52       0            2             2            0   \n",
       "33-1  33-1    0   51       1            2             0            0   \n",
       "34-1  34-1    0   55       0            1             0            0   \n",
       "35-1  35-1    1   40       0            2             0            0   \n",
       "36-1  36-1    1   39       0            2             0            0   \n",
       "37-1  37-1    0   52       0            1             0            0   \n",
       "38-1  38-1    0   16       1            0             0            2   \n",
       "39-1  39-1    1   74       0            0             0            0   \n",
       "40-1  40-1    0   56       0            0             0            0   \n",
       "41-1  41-1    1   32       1            2             0            0   \n",
       "42-1  42-1    1   67       0            1             0            0   \n",
       "43-1  43-1    0   64       0            1             1            0   \n",
       "44-1  44-1    1   68       0            1             1            2   \n",
       "46-1  46-1    0   27       0            2             0            0   \n",
       "47-1  47-1    0   37       1            1             0            0   \n",
       "48-1  48-1    0   36       1            1             0            0   \n",
       "49-1  49-1    1   67       1            2             0            2   \n",
       "5-1    5-1    0   62       0            1             0            0   \n",
       "50-1  50-1    0   51       1            1             0            2   \n",
       "6-1    6-1    0   53       1            1             2            0   \n",
       "7-1    7-1    1   48       1            0             0            0   \n",
       "8-1    8-1    1   51       0            1             0            0   \n",
       "9-1    9-1    0   58       0            1             0            0   \n",
       "\n",
       "      P53_status  \n",
       "1-1            1  \n",
       "11-1           1  \n",
       "12-1           1  \n",
       "13-1           2  \n",
       "14-1           1  \n",
       "15-1           2  \n",
       "16-1           2  \n",
       "17-1           0  \n",
       "18-1           0  \n",
       "19-1           0  \n",
       "2-1            2  \n",
       "21-1           2  \n",
       "22-1           2  \n",
       "23-1           0  \n",
       "25-1           0  \n",
       "26-1           0  \n",
       "27-1           0  \n",
       "28-1           0  \n",
       "3-1            2  \n",
       "31-1           1  \n",
       "33-1           0  \n",
       "34-1           0  \n",
       "35-1           0  \n",
       "36-1           1  \n",
       "37-1           2  \n",
       "38-1           2  \n",
       "39-1           2  \n",
       "40-1           0  \n",
       "41-1           2  \n",
       "42-1           0  \n",
       "43-1           2  \n",
       "44-1           2  \n",
       "46-1           2  \n",
       "47-1           1  \n",
       "48-1           1  \n",
       "49-1           2  \n",
       "5-1            2  \n",
       "50-1           2  \n",
       "6-1            1  \n",
       "7-1            0  \n",
       "8-1            0  \n",
       "9-1            2  "
      ]
     },
     "execution_count": 12,
     "metadata": {},
     "output_type": "execute_result"
    }
   ],
   "source": [
    "clinical"
   ]
  },
  {
   "cell_type": "code",
   "execution_count": 13,
   "id": "945dcec2",
   "metadata": {},
   "outputs": [
    {
     "name": "stderr",
     "output_type": "stream",
     "text": [
      "/tmp/ipykernel_457169/3166185282.py:3: FutureWarning: Dropping of nuisance columns in DataFrame reductions (with 'numeric_only=None') is deprecated; in a future version this will raise TypeError.  Select only valid columns before calling the reduction.\n",
      "  means0 = sub0.mean().round(3)\n",
      "/tmp/ipykernel_457169/3166185282.py:4: FutureWarning: Dropping of nuisance columns in DataFrame reductions (with 'numeric_only=None') is deprecated; in a future version this will raise TypeError.  Select only valid columns before calling the reduction.\n",
      "  means1 = sub1.mean().round(3)\n"
     ]
    }
   ],
   "source": [
    "sub0 = clinical[clinical['Psuedo'] == 0]\n",
    "sub1 = clinical[clinical['Psuedo'] == 1]\n",
    "means0 = sub0.mean().round(3)\n",
    "means1 = sub1.mean().round(3)\n",
    "\n",
    "pvals = []\n",
    "cols = list(clinical)[1:]\n",
    "\n",
    "for i in range(len(cols)):\n",
    "    col = cols[i]\n",
    "    pvals.append(np.round(ttest_ind(sub0[col],sub1[col])[1],3))"
   ]
  },
  {
   "cell_type": "code",
   "execution_count": 14,
   "id": "4121ca0d",
   "metadata": {},
   "outputs": [
    {
     "name": "stdout",
     "output_type": "stream",
     "text": [
      "TP: 29 PsP: 13\n",
      "Male TP: 17\n",
      "Female TP: 12\n",
      "Male PsP: 9\n",
      "Female PsP: 4\n",
      "0.524\n"
     ]
    }
   ],
   "source": [
    "print(\"TP:\", sub0.shape[0], \"PsP:\", sub1.shape[0])\n",
    "print(\"Male TP:\", sub0[sub0[\"Sex\"] == 0].shape[0]) # Male = 0\n",
    "print(\"Female TP:\", sub0[sub0[\"Sex\"] == 1].shape[0]) # Female = 1\n",
    "print(\"Male PsP:\", sub1[sub1[\"Sex\"] == 0].shape[0]) # Male = 0\n",
    "print(\"Female PsP:\", sub1[sub1[\"Sex\"] == 1].shape[0]) # Female = 1\n",
    "print(np.round(ttest_ind(sub0[\"Sex\"],sub1[\"Sex\"])[1],3))"
   ]
  },
  {
   "cell_type": "code",
   "execution_count": 15,
   "id": "7fb49307-d089-41af-a1aa-bfc3e5a410e2",
   "metadata": {},
   "outputs": [
    {
     "name": "stdout",
     "output_type": "stream",
     "text": [
      "TP: 29 PsP: 13\n",
      "wildtype TP: 14\n",
      "mutant TP: 8\n",
      "missing TP: 7\n",
      "wildtype PsP: 6\n",
      "mutant PsP: 5\n",
      "missing PsP: 2\n",
      "0.627\n"
     ]
    }
   ],
   "source": [
    "print(\"TP:\", sub0.shape[0], \"PsP:\", sub1.shape[0])\n",
    "print(\"wildtype TP:\", sub0[sub0[\"IDH1_status\"] == 1].shape[0]) # Male = 0\n",
    "print(\"mutant TP:\", sub0[sub0[\"IDH1_status\"] == 2].shape[0]) # Female = 1\n",
    "print(\"missing TP:\", sub0[sub0[\"IDH1_status\"] == 0].shape[0]) # Female = 1\n",
    "\n",
    "print(\"wildtype PsP:\", sub1[sub1[\"IDH1_status\"] == 1].shape[0]) # Male = 0\n",
    "print(\"mutant PsP:\", sub1[sub1[\"IDH1_status\"] == 2].shape[0]) # Female = 1\n",
    "print(\"missing PsP:\", sub1[sub1[\"IDH1_status\"] == 0].shape[0]) # Female = 1\n",
    "print(np.round(ttest_ind(sub0[\"IDH1_status\"][sub0[\"IDH1_status\"] > 0],sub1[\"IDH1_status\"][sub1[\"IDH1_status\"].astype('int') > 0])[1],3))"
   ]
  },
  {
   "cell_type": "code",
   "execution_count": 16,
   "id": "b92698dd-0ecf-48ce-b94f-3e354e225edb",
   "metadata": {},
   "outputs": [
    {
     "name": "stdout",
     "output_type": "stream",
     "text": [
      "TP: 29 PsP: 13\n",
      "wildtype TP: 3\n",
      "mutant TP: 4\n",
      "missing TP: 22\n",
      "wildtype PsP: 0\n",
      "mutant PsP: 3\n",
      "missing PsP: 10\n",
      "0.217\n"
     ]
    }
   ],
   "source": [
    "print(\"TP:\", sub0.shape[0], \"PsP:\", sub1.shape[0])\n",
    "print(\"wildtype TP:\", sub0[sub0[\"status_1p19q\"] == 1].shape[0]) # Male = 0\n",
    "print(\"mutant TP:\", sub0[sub0[\"status_1p19q\"] == 2].shape[0]) # Female = 1\n",
    "print(\"missing TP:\", sub0[sub0[\"status_1p19q\"] == 0].shape[0]) # Female = 1\n",
    "\n",
    "print(\"wildtype PsP:\", sub1[sub1[\"status_1p19q\"] == 1].shape[0]) # Male = 0\n",
    "print(\"mutant PsP:\", sub1[sub1[\"status_1p19q\"] == 2].shape[0]) # Female = 1\n",
    "print(\"missing PsP:\", sub1[sub1[\"status_1p19q\"] == 0].shape[0]) # Female = 1\n",
    "print(np.round(ttest_ind(sub0[\"status_1p19q\"][sub0[\"status_1p19q\"] > 0],sub1[\"status_1p19q\"][sub1[\"status_1p19q\"].astype('int') > 0])[1],3))"
   ]
  },
  {
   "cell_type": "code",
   "execution_count": 17,
   "id": "5110f946-4688-4ec9-9dce-91edb0047fd5",
   "metadata": {},
   "outputs": [
    {
     "data": {
      "text/plain": [
       "1-1     2\n",
       "13-1    2\n",
       "15-1    2\n",
       "16-1    2\n",
       "44-1    2\n",
       "Name: EGFR_status, dtype: int64"
      ]
     },
     "execution_count": 17,
     "metadata": {},
     "output_type": "execute_result"
    }
   ],
   "source": [
    "sub0[\"EGFR_status\"][sub0[\"EGFR_status\"] > 0]"
   ]
  },
  {
   "cell_type": "code",
   "execution_count": 18,
   "id": "a711a5aa-f0b9-491b-b668-869a9810948a",
   "metadata": {},
   "outputs": [
    {
     "name": "stdout",
     "output_type": "stream",
     "text": [
      "TP: 29 PsP: 13\n",
      "wildtype TP: 0\n",
      "mutant TP: 5\n",
      "missing TP: 24\n",
      "wildtype PsP: 0\n",
      "mutant PsP: 4\n",
      "missing PsP: 9\n",
      "nan\n"
     ]
    }
   ],
   "source": [
    "print(\"TP:\", sub0.shape[0], \"PsP:\", sub1.shape[0])\n",
    "print(\"wildtype TP:\", sub0[sub0[\"EGFR_status\"] == 1].shape[0]) # Male = 0\n",
    "print(\"mutant TP:\", sub0[sub0[\"EGFR_status\"] == 2].shape[0]) # Female = 1\n",
    "print(\"missing TP:\", sub0[sub0[\"EGFR_status\"] == 0].shape[0]) # Female = 1\n",
    "\n",
    "print(\"wildtype PsP:\", sub1[sub1[\"EGFR_status\"] == 1].shape[0]) # Male = 0\n",
    "print(\"mutant PsP:\", sub1[sub1[\"EGFR_status\"] == 2].shape[0]) # Female = 1\n",
    "print(\"missing PsP:\", sub1[sub1[\"EGFR_status\"] == 0].shape[0]) # Female = 1\n",
    "print(np.round(ttest_ind(sub0[\"EGFR_status\"][sub0[\"EGFR_status\"] > 0],sub1[\"EGFR_status\"][sub1[\"EGFR_status\"].astype('int') > 0])[1],3))"
   ]
  },
  {
   "cell_type": "code",
   "execution_count": 19,
   "id": "206ed177-9f27-425a-b348-ad4e5bd86ef6",
   "metadata": {},
   "outputs": [
    {
     "name": "stdout",
     "output_type": "stream",
     "text": [
      "TP: 29 PsP: 13\n",
      "wildtype TP: 5\n",
      "mutant TP: 12\n",
      "missing TP: 12\n",
      "wildtype PsP: 4\n",
      "mutant PsP: 6\n",
      "missing PsP: 3\n",
      "0.59\n"
     ]
    }
   ],
   "source": [
    "print(\"TP:\", sub0.shape[0], \"PsP:\", sub1.shape[0])\n",
    "print(\"wildtype TP:\", sub0[sub0[\"P53_status\"] == 1].shape[0]) # Male = 0\n",
    "print(\"mutant TP:\", sub0[sub0[\"P53_status\"] == 2].shape[0]) # Female = 1\n",
    "print(\"missing TP:\", sub0[sub0[\"P53_status\"] == 0].shape[0]) # Female = 1\n",
    "\n",
    "print(\"wildtype PsP:\", sub1[sub1[\"P53_status\"] == 1].shape[0]) # Male = 0\n",
    "print(\"mutant PsP:\", sub1[sub1[\"P53_status\"] == 2].shape[0]) # Female = 1\n",
    "print(\"missing PsP:\", sub1[sub1[\"P53_status\"] == 0].shape[0]) # Female = 1\n",
    "print(np.round(ttest_ind(sub0[\"P53_status\"][sub0[\"P53_status\"] > 0],sub1[\"P53_status\"][sub1[\"P53_status\"].astype('int') > 0])[1],3))"
   ]
  },
  {
   "cell_type": "code",
   "execution_count": 20,
   "id": "3e007de2",
   "metadata": {},
   "outputs": [
    {
     "data": {
      "text/html": [
       "<div>\n",
       "<style scoped>\n",
       "    .dataframe tbody tr th:only-of-type {\n",
       "        vertical-align: middle;\n",
       "    }\n",
       "\n",
       "    .dataframe tbody tr th {\n",
       "        vertical-align: top;\n",
       "    }\n",
       "\n",
       "    .dataframe thead th {\n",
       "        text-align: right;\n",
       "    }\n",
       "</style>\n",
       "<table border=\"1\" class=\"dataframe\">\n",
       "  <thead>\n",
       "    <tr style=\"text-align: right;\">\n",
       "      <th></th>\n",
       "      <th>True Progression</th>\n",
       "      <th>Psuedoprogression</th>\n",
       "      <th>p-val</th>\n",
       "    </tr>\n",
       "  </thead>\n",
       "  <tbody>\n",
       "    <tr>\n",
       "      <th>Sex</th>\n",
       "      <td>0.414</td>\n",
       "      <td>0.308</td>\n",
       "      <td>0.524</td>\n",
       "    </tr>\n",
       "    <tr>\n",
       "      <th>Age</th>\n",
       "      <td>53.345</td>\n",
       "      <td>45.692</td>\n",
       "      <td>0.100</td>\n",
       "    </tr>\n",
       "    <tr>\n",
       "      <th>IDH1_status</th>\n",
       "      <td>1.034</td>\n",
       "      <td>1.231</td>\n",
       "      <td>0.425</td>\n",
       "    </tr>\n",
       "    <tr>\n",
       "      <th>status_1p19q</th>\n",
       "      <td>0.379</td>\n",
       "      <td>0.462</td>\n",
       "      <td>0.752</td>\n",
       "    </tr>\n",
       "    <tr>\n",
       "      <th>EGFR_status</th>\n",
       "      <td>0.345</td>\n",
       "      <td>0.615</td>\n",
       "      <td>0.335</td>\n",
       "    </tr>\n",
       "    <tr>\n",
       "      <th>P53_status</th>\n",
       "      <td>1.000</td>\n",
       "      <td>1.231</td>\n",
       "      <td>0.446</td>\n",
       "    </tr>\n",
       "  </tbody>\n",
       "</table>\n",
       "</div>"
      ],
      "text/plain": [
       "              True Progression  Psuedoprogression  p-val\n",
       "Sex                      0.414              0.308  0.524\n",
       "Age                     53.345             45.692  0.100\n",
       "IDH1_status              1.034              1.231  0.425\n",
       "status_1p19q             0.379              0.462  0.752\n",
       "EGFR_status              0.345              0.615  0.335\n",
       "P53_status               1.000              1.231  0.446"
      ]
     },
     "execution_count": 20,
     "metadata": {},
     "output_type": "execute_result"
    }
   ],
   "source": [
    "df = pd.DataFrame([means0.values,means1.values,pvals], columns = list(clinical)[1:])\n",
    "df.index = [\"True Progression\", \"Psuedoprogression\",\"p-val\"]\n",
    "df = df.drop('Psuedo', axis=1)\n",
    "df.transpose()"
   ]
  },
  {
   "cell_type": "raw",
   "id": "e65a482c",
   "metadata": {},
   "source": [
    "clinical['Age'] = (clinical['Age'] / 50) "
   ]
  },
  {
   "cell_type": "code",
   "execution_count": 21,
   "id": "12d80d66",
   "metadata": {},
   "outputs": [],
   "source": [
    "from sklearn.linear_model import LogisticRegression"
   ]
  },
  {
   "cell_type": "code",
   "execution_count": 22,
   "id": "b8f15553",
   "metadata": {},
   "outputs": [],
   "source": [
    "pats = np.random.choice(resd[f].index.values, 9, replace=False)"
   ]
  },
  {
   "cell_type": "code",
   "execution_count": 23,
   "id": "0e6cf51e",
   "metadata": {},
   "outputs": [],
   "source": [
    "%matplotlib inline"
   ]
  },
  {
   "cell_type": "code",
   "execution_count": 24,
   "id": "7b90ce93",
   "metadata": {},
   "outputs": [
    {
     "data": {
      "image/png": "[encoded data removed]",
      "text/plain": [
       "<Figure size 792x432 with 9 Axes>"
      ]
     },
     "metadata": {
      "needs_background": "light"
     },
     "output_type": "display_data"
    }
   ],
   "source": [
    "rows = 3\n",
    "fig,ax = plt.subplots(rows, int(len(pats) / rows), figsize=(11,(2*rows)))\n",
    "\n",
    "row_idx = -1\n",
    "col_idx = 0\n",
    "for x in range(len(pats)):\n",
    "    if x % 3 == 0:\n",
    "        row_idx += 1\n",
    "    if col_idx % 3 == 0:\n",
    "        col_idx = 0\n",
    "    \n",
    "    if pats[x].count(\"-\") == 2 or pats[x].count(\"+\") == 1:\n",
    "        patName = pats[x][:-2]\n",
    "    else:\n",
    "        patName = pats[x]\n",
    "    \n",
    "    ax[row_idx,col_idx].plot(resd[f].loc[pats[x]])\n",
    "    ax[row_idx,col_idx].set_title(\"Patient %s : %s\" % (pats[x], clinical.loc[patName]['Psuedo']))\n",
    "    ax[row_idx,col_idx].set_yticklabels([])\n",
    "    ax[row_idx,col_idx].set_xticklabels([])\n",
    "    \n",
    "    col_idx += 1\n",
    "\n",
    "plt.suptitle('Density Chart for Patients')\n",
    "plt.savefig(\"Fig1.png\")"
   ]
  },
  {
   "cell_type": "code",
   "execution_count": 25,
   "id": "b453e9b6",
   "metadata": {},
   "outputs": [
    {
     "name": "stdout",
     "output_type": "stream",
     "text": [
      "/nfs/turbo/umms-ukarvind/elisawa/1Pseudoprogression/UPenn-UMich Code Sharing/Data_Full42_2023/t1post_t1postpre/resd_t1post_t1postpre.RData\n"
     ]
    },
    {
     "data": {
      "text/plain": [
       "<matplotlib.collections.PathCollection at 0x152c217deb50>"
      ]
     },
     "execution_count": 25,
     "metadata": {},
     "output_type": "execute_result"
    },
    {
     "data": {
      "image/png": "[encoded data removed]",
      "text/plain": [
       "<Figure size 432x288 with 1 Axes>"
      ]
     },
     "metadata": {
      "needs_background": "light"
     },
     "output_type": "display_data"
    }
   ],
   "source": [
    "## create a labels dataframe\n",
    "labels = pd.DataFrame()\n",
    "f = list(resd.keys())[0]\n",
    "print(f)\n",
    "\n",
    "labelList = []\n",
    "for patID in resd[f].index.values:\n",
    "    if patID.count(\"-\") == 2 or \"+\" in patID:\n",
    "        patName = patID[:-2]\n",
    "    else:\n",
    "        patName = patID\n",
    "    \n",
    "    labelList.append(clinical.loc[patName]['Psuedo'])\n",
    "\n",
    "labels['label'] = labelList\n",
    "labels.index = resd[f].index.values\n",
    "\n",
    "plt.scatter(resd[f][0], resd[f][500], c=labels['label'])"
   ]
  },
  {
   "cell_type": "markdown",
   "id": "ebb60fa3",
   "metadata": {},
   "source": [
    "## LOOCV"
   ]
  },
  {
   "cell_type": "code",
   "execution_count": 26,
   "id": "27b0a0fe",
   "metadata": {},
   "outputs": [],
   "source": [
    "from sklearn.metrics import roc_auc_score, recall_score"
   ]
  },
  {
   "cell_type": "code",
   "execution_count": 27,
   "id": "0b0a508a",
   "metadata": {},
   "outputs": [],
   "source": [
    "from sklearn.ensemble import RandomForestClassifier\n",
    "from sklearn.svm import SVC\n",
    "from sklearn.linear_model import ElasticNet"
   ]
  },
  {
   "cell_type": "code",
   "execution_count": 28,
   "id": "9d5b0f44",
   "metadata": {},
   "outputs": [],
   "source": [
    "# the clinical features that will be included\n",
    "includedFeats = [x for x in list(clinical) if x != \"ID\" and \"Psuedo\" not in x]"
   ]
  },
  {
   "cell_type": "markdown",
   "id": "234d0faa",
   "metadata": {},
   "source": [
    "## Calculate results"
   ]
  },
  {
   "cell_type": "raw",
   "id": "b7796afb",
   "metadata": {},
   "source": [
    "idx_dict[criteria cutoff][patient number/fold]"
   ]
  },
  {
   "cell_type": "markdown",
   "id": "a527e141",
   "metadata": {},
   "source": [
    "Here, I'm redoing the calculation of importance because I need std cutoffs to be done for each fold for each criteria so the test data is not included as part of the calculations. Then, for all criteria and all folds, I will calculate the importance"
   ]
  },
  {
   "cell_type": "markdown",
   "id": "ad955556",
   "metadata": {},
   "source": [
    "We attempt to create an ensemble model to predict based off of density features.  In order to drop out density features which have not changed, we build a small ensemble model which cuts out features up to less than 1 pixel std. So we deem differences in 1 pixel to be possibly important"
   ]
  },
  {
   "cell_type": "code",
   "execution_count": 29,
   "id": "d05213b6",
   "metadata": {},
   "outputs": [],
   "source": [
    "## create a labels dataframe\n",
    "labels = pd.DataFrame()\n",
    "\n",
    "labelList = []\n",
    "for patID in resd[f].index.values:\n",
    "    if patID.count(\"-\") == 2 or \"+\" in patID:\n",
    "        patName = patID[:-2]\n",
    "    else:\n",
    "        patName = patID\n",
    "    \n",
    "    labelList.append(clinical.loc[patName]['Psuedo'])\n",
    "\n",
    "labels['label'] = labelList\n",
    "labels.index = resd[f].index.values"
   ]
  },
  {
   "cell_type": "code",
   "execution_count": 30,
   "id": "99d7eb10",
   "metadata": {},
   "outputs": [
    {
     "name": "stdout",
     "output_type": "stream",
     "text": [
      "TP patients: 29\n"
     ]
    }
   ],
   "source": [
    "print(\"TP patients:\", np.sum(labels['label'] == 0))"
   ]
  },
  {
   "cell_type": "code",
   "execution_count": 31,
   "id": "3604652a",
   "metadata": {
    "tags": []
   },
   "outputs": [
    {
     "name": "stdout",
     "output_type": "stream",
     "text": [
      "Choosing all masks\n",
      "resd_t1post_t1postpre.RData...0.5083996463306808\n",
      "resd_t2_flair.RData...0.39168877099911587\n",
      "resd_adc_t1postpre.RData...0.6259946949602122\n",
      "resd_t1postpre_flair.RData...0.5968169761273209\n",
      "resd_t1post_flair.RData...0.5888594164456233\n",
      "resd_adc_t1post.RData...0.6251105216622458\n",
      "resd_t1_t1post.RData...0.4907161803713528\n",
      "resd_t1_t1postpre.RData...0.48983200707338637\n",
      "resd_t1postpre_t2.RData...0.6180371352785144\n",
      "resd_adc_t1.RData...0.6242263483642794\n",
      "resd_t1_flair.RData...0.5119363395225465\n",
      "resd_t1_t2.RData...0.45977011494252873\n",
      "resd_adc_flair_200.RData...0.3828470380194518\n",
      "resd_adc_flair.RData...0.6684350132625996\n",
      "resd_t1post_t2.RData...0.614500442086649\n",
      "resd_adc_t2.RData...0.6525198938992042\n"
     ]
    }
   ],
   "source": [
    "coef = {}\n",
    "idx_dict = {}\n",
    "prediction_saved = {}\n",
    "finalSaved = {}\n",
    "sensitivity_saved = {}\n",
    "specificity_saved = {}\n",
    "\n",
    "indiv_TOGGLE = True\n",
    "\n",
    "if indiv_TOGGLE:\n",
    "    print(\"Choosing all masks\")\n",
    "else:\n",
    "    print(\"Choosing biggest mask\")\n",
    "\n",
    "for f in resd:\n",
    "    pair = f.split(\"/\")[-1]\n",
    "    predicted = np.zeros((1, clinical.shape[0])) # 100 rows, patno cols\n",
    "    prediction_saved[pair] = []\n",
    "\n",
    "    #X2 = pd.merge(resd,clinical[includedFeats],left_index=True,right_index=True)\n",
    "    \n",
    "    print(f.split(\"/\")[-1], end= \"...\")\n",
    "    for i,patno in enumerate(clinical.index.values):\n",
    "        idx = [x for x in range(resd[f].shape[0]) if resd[f].index.values[x][:-2] == patno or resd[f].index.values[x] == patno]\n",
    "        \n",
    "        X_test1 = resd[f].iloc[idx]\n",
    "        y_test = labels.iloc[idx]['label']\n",
    "        \n",
    "        if not indiv_TOGGLE:\n",
    "            if len(idx) > 1:\n",
    "                X_test1 = X_test1.loc[patno]\n",
    "                y_test = y_test[0]\n",
    "                #print(patno)\n",
    "    \n",
    "        X_train1 = resd[f].drop(resd[f].index.values[idx])\n",
    "        y_train = labels.drop(resd[f].index.values[idx])['label']\n",
    "    \n",
    "        sorted_std = np.argsort(np.std(X_train1, axis=0).values)[::-1]\n",
    "        #a = np.mean(X_train1[y_train == 0])\n",
    "        #b = np.mean(X_train1[y_train == 1])\n",
    "        #sorted_std = np.argsort(np.abs(a-b)).values[::-1]\n",
    "        \n",
    "        temp = [sorted_std[0]]\n",
    "        for x in sorted_std:\n",
    "            if np.sum([np.abs(x - g) < 10 for g in temp]) == 0:\n",
    "                temp.append(x)\n",
    "        sorted_std = temp[:3]\n",
    "        #print(sorted_std)\n",
    "            \n",
    "        idx_ft = [list(X_train1)[x] for x in sorted_std]\n",
    "        \n",
    "        X_train = X_train1[idx_ft]\n",
    "        X_test = X_test1[idx_ft]\n",
    "        \n",
    "        if pair not in idx_dict:\n",
    "            idx_dict[pair] = {}\n",
    "        idx_dict[pair][i] = idx_ft\n",
    "    \n",
    "        clf = LogisticRegression(max_iter=10000, class_weight=\"balanced\") # 3000\n",
    "        #clf = SVC(probability=True, gamma='auto', C=0.3)\n",
    "\n",
    "        clf.fit(X_train, y_train)\n",
    "        \n",
    "        if not indiv_TOGGLE:\n",
    "            results = list(clf.predict_proba(X_test.values.reshape(1,-1)).astype('float64')[:,1]) # sometimes reshape not needed\n",
    "        else:\n",
    "            results = list(clf.predict_proba(X_test.values)[:,1])\n",
    "        \n",
    "        if len(results) > 1:\n",
    "            results = list(results)\n",
    "        #    results = list([results[np.argmin(np.abs(np.round(np.array(results)) - np.array(results)))]])\n",
    "\n",
    "        prediction_saved[pair] = prediction_saved[pair] + results\n",
    "\n",
    "        \n",
    "        if pair not in coef:\n",
    "            coef[pair] = {}\n",
    "        coef[pair][i] = clf.coef_\n",
    "    \n",
    "    if indiv_TOGGLE:\n",
    "        score = roc_auc_score(labels, prediction_saved[pair])\n",
    "        sensitivity_saved[pair] = recall_score(labels, np.round(prediction_saved[pair]), pos_label=1)\n",
    "        specificity_saved[pair] = recall_score(labels, np.round(prediction_saved[pair]), pos_label=0)\n",
    "    else:\n",
    "        score = roc_auc_score(clinical['Psuedo'], prediction_saved[pair])\n",
    "        sensitivity_saved[pair] = recall_score(clinical['Psuedo'], prediction_saved[pair], pos_label=1)\n",
    "        specificity_saved[pair] = recall_score(clinical['Psuedo'], prediction_saved[pair], pos_label=0)\n",
    "        \n",
    "    finalSaved[pair] = score\n",
    "    print(score)"
   ]
  },
  {
   "cell_type": "code",
   "execution_count": 32,
   "id": "4a14b52b",
   "metadata": {},
   "outputs": [
    {
     "name": "stdout",
     "output_type": "stream",
     "text": [
      "resd_t1postpre_flair.RData ... 0.5968169761273209 0.6923076923076923 0.4482758620689655\n",
      "resd_t1postpre_t2.RData ... 0.6180371352785144 0.6923076923076923 0.4827586206896552\n",
      "resd_t1post_flair.RData ... 0.5888594164456233 0.6410256410256411 0.4482758620689655\n",
      "resd_t1post_t1postpre.RData ... 0.5083996463306808 0.5641025641025641 0.4482758620689655\n",
      "resd_t1post_t2.RData ... 0.614500442086649 0.6923076923076923 0.4827586206896552\n",
      "resd_t1_flair.RData ... 0.5119363395225465 0.46153846153846156 0.6896551724137931\n",
      "resd_t1_t1post.RData ... 0.4907161803713528 0.46153846153846156 0.5862068965517241\n",
      "resd_t1_t1postpre.RData ... 0.48983200707338637 0.46153846153846156 0.5862068965517241\n",
      "resd_t1_t2.RData ... 0.45977011494252873 0.41025641025641024 0.5862068965517241\n",
      "resd_t2_flair.RData ... 0.39168877099911587 0.1282051282051282 0.5862068965517241\n",
      "resd_adc_flair.RData ... 0.6684350132625996 0.6153846153846154 0.6551724137931034\n",
      "resd_adc_t1post.RData ... 0.6251105216622458 0.5384615384615384 0.5517241379310345\n",
      "resd_adc_t1postpre.RData ... 0.6259946949602122 0.5384615384615384 0.5517241379310345\n",
      "resd_adc_t2.RData ... 0.6525198938992042 0.6666666666666666 0.6206896551724138\n",
      "resd_adc_t1.RData ... 0.6242263483642794 0.5384615384615384 0.5862068965517241\n"
     ]
    }
   ],
   "source": [
    "df = pd.DataFrame()\n",
    "\n",
    "listResd = ['resd_t1postpre_flair.RData', 'resd_t1postpre_t2.RData', 'resd_t1post_flair.RData', 'resd_t1post_t1postpre.RData', \n",
    " 'resd_t1post_t2.RData', 'resd_t1_flair.RData', 'resd_t1_t1post.RData', 'resd_t1_t1postpre.RData', 'resd_t1_t2.RData', \n",
    " 'resd_t2_flair.RData', 'resd_adc_flair.RData', 'resd_adc_t1post.RData', 'resd_adc_t1postpre.RData', 'resd_adc_t2.RData', 'resd_adc_t1.RData']\n",
    "\n",
    "for x in listResd:\n",
    "    print(x, '...', finalSaved[x], sensitivity_saved[x], specificity_saved[x])\n",
    "\n",
    "df['pair'] = listResd\n",
    "df['AUC'] = [np.round(finalSaved[x],4) for x in listResd]\n",
    "df['Sensitivity'] = [np.round(sensitivity_saved[x],4) for x in listResd]\n",
    "df['Specificity'] = [np.round(specificity_saved[x],4) for x in listResd]\n",
    "\n",
    "df.to_csv(\"../Data_Full42_2023/Assessment1_Results.csv\", index=False)"
   ]
  },
  {
   "cell_type": "raw",
   "id": "5947ce79",
   "metadata": {},
   "source": [
    "changed: I fixed a bug where it only took the first prediction from each person"
   ]
  },
  {
   "cell_type": "markdown",
   "id": "ccc05608",
   "metadata": {},
   "source": [
    "## Naive Bayes"
   ]
  },
  {
   "cell_type": "code",
   "execution_count": 33,
   "id": "c224b89e",
   "metadata": {},
   "outputs": [],
   "source": [
    "keys = list(finalSaved.keys())\n",
    "values = list(finalSaved.values())\n",
    "sorted_value_index = np.argsort(values)\n",
    "sorted_dict = {keys[i]: values[i] for i in sorted_value_index if values[i] > 0.5}\n",
    "keys = list(sorted_dict.keys())[::-1]\n",
    "#keys = np.random.choice(keys, 10, replace = False)"
   ]
  },
  {
   "cell_type": "code",
   "execution_count": 34,
   "id": "d4a1d13c-49e0-4159-af9d-0bf24a98efa9",
   "metadata": {},
   "outputs": [
    {
     "data": {
      "text/plain": [
       "['resd_adc_flair.RData',\n",
       " 'resd_adc_t2.RData',\n",
       " 'resd_adc_t1postpre.RData',\n",
       " 'resd_adc_t1post.RData',\n",
       " 'resd_adc_t1.RData',\n",
       " 'resd_t1postpre_t2.RData',\n",
       " 'resd_t1post_t2.RData',\n",
       " 'resd_t1postpre_flair.RData',\n",
       " 'resd_t1post_flair.RData',\n",
       " 'resd_t1_flair.RData',\n",
       " 'resd_t1post_t1postpre.RData']"
      ]
     },
     "execution_count": 34,
     "metadata": {},
     "output_type": "execute_result"
    }
   ],
   "source": [
    "keys"
   ]
  },
  {
   "cell_type": "raw",
   "id": "be9c3182-f77b-45d8-81e6-8bd3bb4601d6",
   "metadata": {},
   "source": [
    "labels = clinical['Psuedo']"
   ]
  },
  {
   "cell_type": "code",
   "execution_count": 35,
   "id": "0371261b-1fda-4d01-b2ee-ad95bd2c0da9",
   "metadata": {},
   "outputs": [
    {
     "data": {
      "text/html": [
       "<div>\n",
       "<style scoped>\n",
       "    .dataframe tbody tr th:only-of-type {\n",
       "        vertical-align: middle;\n",
       "    }\n",
       "\n",
       "    .dataframe tbody tr th {\n",
       "        vertical-align: top;\n",
       "    }\n",
       "\n",
       "    .dataframe thead th {\n",
       "        text-align: right;\n",
       "    }\n",
       "</style>\n",
       "<table border=\"1\" class=\"dataframe\">\n",
       "  <thead>\n",
       "    <tr style=\"text-align: right;\">\n",
       "      <th></th>\n",
       "      <th>pair</th>\n",
       "      <th>AUC</th>\n",
       "      <th>Sensitivity</th>\n",
       "      <th>Specificity</th>\n",
       "    </tr>\n",
       "  </thead>\n",
       "  <tbody>\n",
       "    <tr>\n",
       "      <th>0</th>\n",
       "      <td>resd_t1postpre_flair.RData</td>\n",
       "      <td>0.5968</td>\n",
       "      <td>0.6923</td>\n",
       "      <td>0.4483</td>\n",
       "    </tr>\n",
       "    <tr>\n",
       "      <th>1</th>\n",
       "      <td>resd_t1postpre_t2.RData</td>\n",
       "      <td>0.6180</td>\n",
       "      <td>0.6923</td>\n",
       "      <td>0.4828</td>\n",
       "    </tr>\n",
       "    <tr>\n",
       "      <th>2</th>\n",
       "      <td>resd_t1post_flair.RData</td>\n",
       "      <td>0.5889</td>\n",
       "      <td>0.6410</td>\n",
       "      <td>0.4483</td>\n",
       "    </tr>\n",
       "    <tr>\n",
       "      <th>3</th>\n",
       "      <td>resd_t1post_t1postpre.RData</td>\n",
       "      <td>0.5084</td>\n",
       "      <td>0.5641</td>\n",
       "      <td>0.4483</td>\n",
       "    </tr>\n",
       "    <tr>\n",
       "      <th>4</th>\n",
       "      <td>resd_t1post_t2.RData</td>\n",
       "      <td>0.6145</td>\n",
       "      <td>0.6923</td>\n",
       "      <td>0.4828</td>\n",
       "    </tr>\n",
       "    <tr>\n",
       "      <th>5</th>\n",
       "      <td>resd_t1_flair.RData</td>\n",
       "      <td>0.5119</td>\n",
       "      <td>0.4615</td>\n",
       "      <td>0.6897</td>\n",
       "    </tr>\n",
       "    <tr>\n",
       "      <th>6</th>\n",
       "      <td>resd_t1_t1post.RData</td>\n",
       "      <td>0.4907</td>\n",
       "      <td>0.4615</td>\n",
       "      <td>0.5862</td>\n",
       "    </tr>\n",
       "    <tr>\n",
       "      <th>7</th>\n",
       "      <td>resd_t1_t1postpre.RData</td>\n",
       "      <td>0.4898</td>\n",
       "      <td>0.4615</td>\n",
       "      <td>0.5862</td>\n",
       "    </tr>\n",
       "    <tr>\n",
       "      <th>8</th>\n",
       "      <td>resd_t1_t2.RData</td>\n",
       "      <td>0.4598</td>\n",
       "      <td>0.4103</td>\n",
       "      <td>0.5862</td>\n",
       "    </tr>\n",
       "    <tr>\n",
       "      <th>9</th>\n",
       "      <td>resd_t2_flair.RData</td>\n",
       "      <td>0.3917</td>\n",
       "      <td>0.1282</td>\n",
       "      <td>0.5862</td>\n",
       "    </tr>\n",
       "    <tr>\n",
       "      <th>10</th>\n",
       "      <td>resd_adc_flair.RData</td>\n",
       "      <td>0.6684</td>\n",
       "      <td>0.6154</td>\n",
       "      <td>0.6552</td>\n",
       "    </tr>\n",
       "    <tr>\n",
       "      <th>11</th>\n",
       "      <td>resd_adc_t1post.RData</td>\n",
       "      <td>0.6251</td>\n",
       "      <td>0.5385</td>\n",
       "      <td>0.5517</td>\n",
       "    </tr>\n",
       "    <tr>\n",
       "      <th>12</th>\n",
       "      <td>resd_adc_t1postpre.RData</td>\n",
       "      <td>0.6260</td>\n",
       "      <td>0.5385</td>\n",
       "      <td>0.5517</td>\n",
       "    </tr>\n",
       "    <tr>\n",
       "      <th>13</th>\n",
       "      <td>resd_adc_t2.RData</td>\n",
       "      <td>0.6525</td>\n",
       "      <td>0.6667</td>\n",
       "      <td>0.6207</td>\n",
       "    </tr>\n",
       "    <tr>\n",
       "      <th>14</th>\n",
       "      <td>resd_adc_t1.RData</td>\n",
       "      <td>0.6242</td>\n",
       "      <td>0.5385</td>\n",
       "      <td>0.5862</td>\n",
       "    </tr>\n",
       "  </tbody>\n",
       "</table>\n",
       "</div>"
      ],
      "text/plain": [
       "                           pair     AUC  Sensitivity  Specificity\n",
       "0    resd_t1postpre_flair.RData  0.5968       0.6923       0.4483\n",
       "1       resd_t1postpre_t2.RData  0.6180       0.6923       0.4828\n",
       "2       resd_t1post_flair.RData  0.5889       0.6410       0.4483\n",
       "3   resd_t1post_t1postpre.RData  0.5084       0.5641       0.4483\n",
       "4          resd_t1post_t2.RData  0.6145       0.6923       0.4828\n",
       "5           resd_t1_flair.RData  0.5119       0.4615       0.6897\n",
       "6          resd_t1_t1post.RData  0.4907       0.4615       0.5862\n",
       "7       resd_t1_t1postpre.RData  0.4898       0.4615       0.5862\n",
       "8              resd_t1_t2.RData  0.4598       0.4103       0.5862\n",
       "9           resd_t2_flair.RData  0.3917       0.1282       0.5862\n",
       "10         resd_adc_flair.RData  0.6684       0.6154       0.6552\n",
       "11        resd_adc_t1post.RData  0.6251       0.5385       0.5517\n",
       "12     resd_adc_t1postpre.RData  0.6260       0.5385       0.5517\n",
       "13            resd_adc_t2.RData  0.6525       0.6667       0.6207\n",
       "14            resd_adc_t1.RData  0.6242       0.5385       0.5862"
      ]
     },
     "execution_count": 35,
     "metadata": {},
     "output_type": "execute_result"
    }
   ],
   "source": [
    "df"
   ]
  },
  {
   "cell_type": "code",
   "execution_count": 36,
   "id": "fd0acc77",
   "metadata": {
    "tags": []
   },
   "outputs": [
    {
     "name": "stdout",
     "output_type": "stream",
     "text": [
      "2 modality pairs: 0.656498673740053 0.6923076923076923 0.6206896551724138\n",
      "3 modality pairs: 0.656498673740053 0.6923076923076923 0.6206896551724138\n",
      "4 modality pairs: 0.656498673740053 0.6923076923076923 0.6206896551724138\n",
      "5 modality pairs: 0.6737400530503979 0.6923076923076923 0.6551724137931034\n",
      "6 modality pairs: 0.656498673740053 0.6923076923076923 0.6206896551724138\n",
      "7 modality pairs: 0.6392572944297082 0.6923076923076923 0.5862068965517241\n",
      "8 modality pairs: 0.5623342175066313 0.5384615384615384 0.5862068965517241\n",
      "9 modality pairs: 0.5623342175066313 0.5384615384615384 0.5862068965517241\n",
      "10 modality pairs: 0.5450928381962864 0.5384615384615384 0.5517241379310345\n",
      "11 modality pairs: 0.5450928381962864 0.5384615384615384 0.5517241379310345\n"
     ]
    }
   ],
   "source": [
    "from sklearn.naive_bayes import GaussianNB, BernoulliNB, MultinomialNB\n",
    "import scipy.stats as st\n",
    " \n",
    "naiveBayesSaved = pd.DataFrame()\n",
    "naiveBayesSaved = naiveBayesSaved.append(pd.DataFrame({\"AUC\":df[df['pair'] == keys[0]]['AUC'].values, \"Sensitivity\":df[df['pair'] == keys[0]]['Sensitivity'].values, \n",
    "                                     \"Specificity\":df[df['pair'] == keys[0]]['Specificity'].values}, index=[1]))\n",
    "\n",
    "for m in range(2,len(keys)+1):\n",
    "    predicted_new = []\n",
    "    \n",
    "    pred = pd.DataFrame(prediction_saved).round().astype('int')\n",
    "    pred.index = labels.index.values\n",
    "    pred = pred[keys[:m]]\n",
    "    \n",
    "    for i,patno in enumerate(clinical.index.values):\n",
    "\n",
    "        idx = [x for x in range(pred.shape[0]) if pred.index.values[x][:-2] == patno or pred.index.values[x] == patno]\n",
    "    \n",
    "        X_test1 = pred.iloc[idx]\n",
    "        #X_test2 = clinical[includedFeats].loc[patno]\n",
    "        y_test = labels.iloc[idx]['label']\n",
    "    \n",
    "        X_train1 = pred.drop(pred.index.values[idx])\n",
    "        #X_train2 = clinical[includedFeats].drop(patno)\n",
    "        y_train = labels.drop(pred.index.values[idx])['label']\n",
    "    \n",
    "        #Fitting the data to the classifier\n",
    "        naive_bayes = GaussianNB() # RandomForestClassifier()\n",
    "        naive_bayes.fit(X_train1, y_train)\n",
    " \n",
    "        #Predict on test data\n",
    "        y_predicted = naive_bayes.predict(X_test1)\n",
    "        if len(y_predicted) > 1:\n",
    "            y_predicted = list([st.mode(y_predicted)[0][0]])\n",
    "\n",
    "        \n",
    "        predicted_new = predicted_new + list(y_predicted)\n",
    "        \n",
    "    #print(\"%s modality pairs:\" % m,roc_auc_score(labels,predicted_new))\n",
    "    auc = roc_auc_score(clinical['Psuedo'], predicted_new)\n",
    "    sens = recall_score(clinical['Psuedo'], predicted_new, pos_label=1)\n",
    "    spec = recall_score(clinical['Psuedo'], predicted_new, pos_label=0)\n",
    "    \n",
    "    print(\"%s modality pairs:\" % m, auc, sens, spec)\n",
    "    \n",
    "    naiveBayesSaved = naiveBayesSaved.append(pd.DataFrame({\"AUC\":[auc], \"Sensitivity\":[sens], \"Specificity\":[spec]}, index=[m]))"
   ]
  },
  {
   "cell_type": "code",
   "execution_count": 37,
   "id": "a89561e8-f0ea-4860-9504-cd077e5970c7",
   "metadata": {},
   "outputs": [
    {
     "data": {
      "text/plain": [
       "['resd_adc_flair.RData',\n",
       " 'resd_adc_t2.RData',\n",
       " 'resd_adc_t1postpre.RData',\n",
       " 'resd_adc_t1post.RData',\n",
       " 'resd_adc_t1.RData',\n",
       " 'resd_t1postpre_t2.RData',\n",
       " 'resd_t1post_t2.RData',\n",
       " 'resd_t1postpre_flair.RData',\n",
       " 'resd_t1post_flair.RData',\n",
       " 'resd_t1_flair.RData',\n",
       " 'resd_t1post_t1postpre.RData']"
      ]
     },
     "execution_count": 37,
     "metadata": {},
     "output_type": "execute_result"
    }
   ],
   "source": [
    "keys"
   ]
  },
  {
   "cell_type": "code",
   "execution_count": 38,
   "id": "5e23a5d9-fa7f-42c8-800a-9b9c8cf4a8f8",
   "metadata": {},
   "outputs": [
    {
     "data": {
      "text/html": [
       "<div>\n",
       "<style scoped>\n",
       "    .dataframe tbody tr th:only-of-type {\n",
       "        vertical-align: middle;\n",
       "    }\n",
       "\n",
       "    .dataframe tbody tr th {\n",
       "        vertical-align: top;\n",
       "    }\n",
       "\n",
       "    .dataframe thead th {\n",
       "        text-align: right;\n",
       "    }\n",
       "</style>\n",
       "<table border=\"1\" class=\"dataframe\">\n",
       "  <thead>\n",
       "    <tr style=\"text-align: right;\">\n",
       "      <th></th>\n",
       "      <th>AUC</th>\n",
       "      <th>Sensitivity</th>\n",
       "      <th>Specificity</th>\n",
       "    </tr>\n",
       "  </thead>\n",
       "  <tbody>\n",
       "    <tr>\n",
       "      <th>1</th>\n",
       "      <td>0.668400</td>\n",
       "      <td>0.615400</td>\n",
       "      <td>0.655200</td>\n",
       "    </tr>\n",
       "    <tr>\n",
       "      <th>2</th>\n",
       "      <td>0.656499</td>\n",
       "      <td>0.692308</td>\n",
       "      <td>0.620690</td>\n",
       "    </tr>\n",
       "    <tr>\n",
       "      <th>3</th>\n",
       "      <td>0.656499</td>\n",
       "      <td>0.692308</td>\n",
       "      <td>0.620690</td>\n",
       "    </tr>\n",
       "    <tr>\n",
       "      <th>4</th>\n",
       "      <td>0.656499</td>\n",
       "      <td>0.692308</td>\n",
       "      <td>0.620690</td>\n",
       "    </tr>\n",
       "    <tr>\n",
       "      <th>5</th>\n",
       "      <td>0.673740</td>\n",
       "      <td>0.692308</td>\n",
       "      <td>0.655172</td>\n",
       "    </tr>\n",
       "    <tr>\n",
       "      <th>6</th>\n",
       "      <td>0.656499</td>\n",
       "      <td>0.692308</td>\n",
       "      <td>0.620690</td>\n",
       "    </tr>\n",
       "    <tr>\n",
       "      <th>7</th>\n",
       "      <td>0.639257</td>\n",
       "      <td>0.692308</td>\n",
       "      <td>0.586207</td>\n",
       "    </tr>\n",
       "    <tr>\n",
       "      <th>8</th>\n",
       "      <td>0.562334</td>\n",
       "      <td>0.538462</td>\n",
       "      <td>0.586207</td>\n",
       "    </tr>\n",
       "    <tr>\n",
       "      <th>9</th>\n",
       "      <td>0.562334</td>\n",
       "      <td>0.538462</td>\n",
       "      <td>0.586207</td>\n",
       "    </tr>\n",
       "    <tr>\n",
       "      <th>10</th>\n",
       "      <td>0.545093</td>\n",
       "      <td>0.538462</td>\n",
       "      <td>0.551724</td>\n",
       "    </tr>\n",
       "    <tr>\n",
       "      <th>11</th>\n",
       "      <td>0.545093</td>\n",
       "      <td>0.538462</td>\n",
       "      <td>0.551724</td>\n",
       "    </tr>\n",
       "  </tbody>\n",
       "</table>\n",
       "</div>"
      ],
      "text/plain": [
       "         AUC  Sensitivity  Specificity\n",
       "1   0.668400     0.615400     0.655200\n",
       "2   0.656499     0.692308     0.620690\n",
       "3   0.656499     0.692308     0.620690\n",
       "4   0.656499     0.692308     0.620690\n",
       "5   0.673740     0.692308     0.655172\n",
       "6   0.656499     0.692308     0.620690\n",
       "7   0.639257     0.692308     0.586207\n",
       "8   0.562334     0.538462     0.586207\n",
       "9   0.562334     0.538462     0.586207\n",
       "10  0.545093     0.538462     0.551724\n",
       "11  0.545093     0.538462     0.551724"
      ]
     },
     "execution_count": 38,
     "metadata": {},
     "output_type": "execute_result"
    }
   ],
   "source": [
    "naiveBayesSaved"
   ]
  },
  {
   "cell_type": "code",
   "execution_count": 59,
   "id": "f8dd767f-516b-452e-a43b-d27d6028cddc",
   "metadata": {},
   "outputs": [
    {
     "data": {
      "image/png": "[encoded data removed]",
      "text/plain": [
       "<Figure size 1152x720 with 1 Axes>"
      ]
     },
     "metadata": {},
     "output_type": "display_data"
    }
   ],
   "source": [
    "import seaborn as sns\n",
    "c = sns.color_palette(\"husl\", 11)\n",
    "sns.set_theme()\n",
    "\n",
    "fig, ax = plt.subplots(figsize=(16,10))\n",
    "\n",
    "plt.plot(naiveBayesSaved['Sensitivity'], '--', c='blue', alpha=0.7 )\n",
    "plt.plot(naiveBayesSaved['Specificity'], '--', c='red', alpha=0.7 )\n",
    "plt.plot(naiveBayesSaved['AUC'], c='black')\n",
    "plt.scatter(naiveBayesSaved.index, naiveBayesSaved['AUC'], s=300, c=c)\n",
    "\n",
    "plt.legend(['Sensitivity', 'Specificity', 'AUC'], fontsize=22)\n",
    "plt.title(\"Combining Modalities in Naive Bayes Model\", fontsize=28)\n",
    "plt.xlabel(\"Number of Modalities\", fontsize=24)\n",
    "plt.ylabel(\"AUC\", fontsize=24)\n",
    "plt.xticks(fontsize=20)\n",
    "plt.yticks(fontsize=20)\n",
    "\n",
    "plt.savefig(\"NaiveBayes.png\",bbox_inches=\"tight\")"
   ]
  },
  {
   "cell_type": "markdown",
   "id": "caf7caca",
   "metadata": {},
   "source": [
    "What I observe is that any model combined with t2-flair will produce a 72.2% AUC model"
   ]
  },
  {
   "cell_type": "markdown",
   "id": "52ea8584",
   "metadata": {},
   "source": [
    "### Rank"
   ]
  },
  {
   "cell_type": "code",
   "execution_count": 193,
   "id": "0f9e1b51",
   "metadata": {},
   "outputs": [],
   "source": [
    "import seaborn as sns"
   ]
  },
  {
   "cell_type": "code",
   "execution_count": 194,
   "id": "dc0c5792",
   "metadata": {},
   "outputs": [],
   "source": [
    "topX = 2"
   ]
  },
  {
   "cell_type": "code",
   "execution_count": 195,
   "id": "f8ecf271",
   "metadata": {},
   "outputs": [],
   "source": [
    "top_feat_dict = {}\n",
    "\n",
    "for f in resd.keys():\n",
    "    f_short = f.split(\"/\")[-1]\n",
    "    for i, pat_idx in enumerate(clinical.index.values):\n",
    "        coefs = np.abs(coef[f_short][i])[0]\n",
    "        a = lambda x: list(idx_dict[f_short][i])[x] # + includedFeats][0][x]\n",
    "        ordered_coef_args = np.argsort(coefs)[::-1].tolist()\n",
    "        topFeats =  [a(x) for x in ordered_coef_args][:topX] # get top features\n",
    "        topVals = [np.abs(coefs[x]) for x in ordered_coef_args][:topX]\n",
    "        for i_idx, k in enumerate(topFeats):\n",
    "            top_feat_dict[str(k)] = top_feat_dict.get(str(k),0) + topVals[i_idx]*np.mean(resd[f][k]) #((topX - i_idx) / topX)\n",
    "            \n",
    "# change to freq)\n",
    "tot = np.sum(list(top_feat_dict.values()))\n",
    "for x in top_feat_dict.keys():\n",
    "    top_feat_dict[x] = top_feat_dict[x] / tot"
   ]
  },
  {
   "cell_type": "code",
   "execution_count": 196,
   "id": "94377967",
   "metadata": {},
   "outputs": [],
   "source": [
    "sortedIDX = np.argsort(list(top_feat_dict.values()))[::-1]\n",
    "catl = [list(top_feat_dict.keys())[x] for x in sortedIDX[:30]]\n",
    "cats= catl[:25]\n",
    "cats.sort()\n",
    "vals = [top_feat_dict[x] for x in cats]"
   ]
  },
  {
   "cell_type": "code",
   "execution_count": 197,
   "id": "4efca985",
   "metadata": {},
   "outputs": [
    {
     "data": {
      "image/png": "[encoded data removed]",
      "text/plain": [
       "<Figure size 1296x288 with 1 Axes>"
      ]
     },
     "metadata": {},
     "output_type": "display_data"
    }
   ],
   "source": [
    "plt.subplots(figsize=(18,4))\n",
    "sns.barplot(x=cats,y=vals)\n",
    "plt.xticks(rotation=60)\n",
    "plt.title(\"Top %s Features\" % topX)\n",
    "plt.xlabel(\"Feature Name\")\n",
    "plt.ylabel(\"Ranking Score\")\n",
    "plt.savefig(\"Fig2_new.png\")"
   ]
  },
  {
   "cell_type": "markdown",
   "id": "af13790d",
   "metadata": {},
   "source": [
    "## Graph Mean Curve"
   ]
  },
  {
   "cell_type": "code",
   "execution_count": 272,
   "id": "89353dc1",
   "metadata": {},
   "outputs": [
    {
     "data": {
      "text/plain": [
       "'/nfs/turbo/umms-ukarvind/elisawa/1Pseudoprogression/UPenn-UMich Code Sharing/Data_Full42_2023/adc_flair/resd_adc_flair_200.RData'"
      ]
     },
     "execution_count": 272,
     "metadata": {},
     "output_type": "execute_result"
    }
   ],
   "source": [
    "f = list(resd)[12] # 12\n",
    "f"
   ]
  },
  {
   "cell_type": "code",
   "execution_count": 273,
   "id": "49e4cc92",
   "metadata": {},
   "outputs": [],
   "source": [
    "sub0 = resd[f][labels['label'] == 0]\n",
    "sub1 = resd[f][labels['label'] == 1]"
   ]
  },
  {
   "cell_type": "code",
   "execution_count": 277,
   "id": "618d1c99",
   "metadata": {},
   "outputs": [
    {
     "data": {
      "text/plain": [
       "Text(0.5, 1.0, 'Mean Densities for each Class')"
      ]
     },
     "execution_count": 277,
     "metadata": {},
     "output_type": "execute_result"
    },
    {
     "data": {
      "image/png": "[encoded data removed]",
      "text/plain": [
       "<Figure size 864x432 with 1 Axes>"
      ]
     },
     "metadata": {
      "needs_background": "light"
     },
     "output_type": "display_data"
    }
   ],
   "source": [
    "idx = [int(x) for x in catl if x not in includedFeats]\n",
    "\n",
    "minval = 0\n",
    "maxval = 1000\n",
    "\n",
    "top_feats_idx = [int(x) for x in catl[:15] if x not in includedFeats]\n",
    "\n",
    "plt.subplots(figsize=(12,6))\n",
    "plt.plot(sub0.mean()[minval:maxval], color=\"blue\", alpha=0.7)\n",
    "plt.plot(sub1.mean()[minval:maxval],  color=\"green\", alpha=0.7)\n",
    "plt.scatter(idx, [sub0.mean()[x] for x in idx],marker='*', color='black')\n",
    "plt.scatter(top_feats_idx, [sub0.mean()[x] for x in top_feats_idx], marker='*', color=\"red\")\n",
    "plt.legend([\"Mean Pseudoprogression\", \"True Progression\"])\n",
    "plt.title(\"Mean Densities for each Class\")"
   ]
  },
  {
   "cell_type": "code",
   "execution_count": 275,
   "id": "fde948fa",
   "metadata": {},
   "outputs": [],
   "source": [
    "std = resd[f].std()\n",
    "lower = resd[f].mean() - std\n",
    "upper = resd[f].mean() + std"
   ]
  },
  {
   "cell_type": "code",
   "execution_count": 276,
   "id": "bf6550a3",
   "metadata": {},
   "outputs": [
    {
     "data": {
      "text/plain": [
       "Text(0.5, 1.0, 'Mean Densities for each Class')"
      ]
     },
     "execution_count": 276,
     "metadata": {},
     "output_type": "execute_result"
    },
    {
     "data": {
      "image/png": "[encoded data removed]",
      "text/plain": [
       "<Figure size 864x432 with 1 Axes>"
      ]
     },
     "metadata": {
      "needs_background": "light"
     },
     "output_type": "display_data"
    }
   ],
   "source": [
    "plt.subplots(figsize=(12,6))\n",
    "plt.plot(sub0.mean()[minval:maxval], color=\"blue\", alpha=0.7)\n",
    "plt.plot(sub1.mean()[minval:maxval],  color=\"green\", alpha=0.7)\n",
    "plt.plot(np.arange(minval,maxval,2),lower[minval:maxval], '--', color=\"gray\", alpha=0.7)\n",
    "plt.plot(np.arange(minval,maxval,2),upper[minval:maxval], '--', color=\"gray\", alpha=0.7)\n",
    "plt.scatter(idx, [sub0.mean()[x] for x in idx],marker='*', color='black')\n",
    "plt.scatter(top_feats_idx, [sub0.mean()[x] for x in top_feats_idx], marker='*', color=\"red\")\n",
    "plt.legend([\"Mean True Progression\", \"Mean Pseudoprogression\", \"Standard Deviation\"])\n",
    "plt.title(\"Mean Densities for each Class\")"
   ]
  },
  {
   "cell_type": "raw",
   "id": "1ae810b6",
   "metadata": {},
   "source": [
    "## Top clinical variables"
   ]
  },
  {
   "cell_type": "raw",
   "id": "0c2aba7b",
   "metadata": {},
   "source": [
    "top_feat_dict = {}\n",
    "\n",
    "for crit_idx in range(res):\n",
    "    for pat_idx in range(len(resd.index.values)):\n",
    "        coefs = np.abs(coef[crit_idx][pat_idx])[0]\n",
    "        a = lambda x: [list(idx_dict[crit_idx][pat_idx]) + includedFeats][0][x]\n",
    "        ordered_coef_args = np.argsort(coefs)[::-1].tolist()\n",
    "        topFeats =  [a(x) for x in ordered_coef_args][:topX]\n",
    "        topVals = [np.abs(coefs[x]) for x in ordered_coef_args][:topX]\n",
    "        for i_idx, i in enumerate(topFeats):\n",
    "            if i in includedFeats:\n",
    "                top_feat_dict[str(i)] = top_feat_dict.get(str(i),0) +  topVals[i_idx]*np.mean(clinical[i])\n",
    "\n",
    "# change to freq)\n",
    "tot = np.sum(list(top_feat_dict.values()))\n",
    "for x in top_feat_dict.keys():\n",
    "    top_feat_dict[x] = top_feat_dict[x] / tot"
   ]
  },
  {
   "cell_type": "raw",
   "id": "d1a7604c",
   "metadata": {},
   "source": [
    "plt.subplots(figsize=(6,10))\n",
    "sortedIDX = np.argsort(list(top_feat_dict.values()))[::-1]\n",
    "cats = [list(top_feat_dict.keys())[x] for x in list(sortedIDX)]\n",
    "sns.barplot(y=cats,x=[top_feat_dict[x] for x in cats])\n",
    "plt.xticks(rotation=45)\n",
    "plt.title(\"Clinical Features Ranked\")\n",
    "plt.xlabel(\"Feature Name\")\n",
    "plt.ylabel(\"Ranking Score\")"
   ]
  },
  {
   "cell_type": "markdown",
   "id": "23ea1b90",
   "metadata": {},
   "source": [
    "# Use PCA"
   ]
  },
  {
   "cell_type": "raw",
   "id": "8a22f045",
   "metadata": {},
   "source": [
    "import numpy as np"
   ]
  },
  {
   "cell_type": "raw",
   "id": "04e22217",
   "metadata": {},
   "source": [
    "data = pyreadr.read_r(\"./gwr_pca_results_t2.RData\")\n",
    "#resd = data['ieden']\n",
    "resd = data['d']\n",
    "names = data['names']"
   ]
  },
  {
   "cell_type": "raw",
   "id": "53ad9203",
   "metadata": {},
   "source": [
    "resd = resd.drop('31-1')\n",
    "names = list(names)\n",
    "names.pop(names.index('31-1'))"
   ]
  },
  {
   "cell_type": "raw",
   "id": "af779bf1",
   "metadata": {},
   "source": [
    "from sklearn.decomposition import PCA\n",
    "from sklearn.decomposition import FastICA\n",
    "\n",
    "transformer = PCA(n_components=33, random_state=0, whiten='unit-variance')\n",
    "X_transformed = transformer.fit_transform(resd.to_numpy())\n",
    "X_transformed.shape\n",
    "\n",
    "resd = pd.DataFrame(X_transformed)\n",
    "resd.index = names"
   ]
  },
  {
   "cell_type": "raw",
   "id": "8557c59a",
   "metadata": {},
   "source": [
    "np.sum((transformer.singular_values_**2) / 32 > 1)"
   ]
  },
  {
   "cell_type": "raw",
   "id": "6ad92eb2",
   "metadata": {},
   "source": [
    "plt.plot(transformer.explained_variance_ratio_)"
   ]
  },
  {
   "cell_type": "raw",
   "id": "919abb44",
   "metadata": {},
   "source": [
    "list_of_names = []\n",
    "for arr in names.values:\n",
    "    list_of_names.append(arr[0])\n",
    "#list_of_names"
   ]
  },
  {
   "cell_type": "raw",
   "id": "1c1d376e",
   "metadata": {},
   "source": [
    "resd.index = list_of_names"
   ]
  },
  {
   "cell_type": "raw",
   "id": "d49a217c",
   "metadata": {},
   "source": [
    "clinicalx = pd.read_csv(\"clinical.csv\")"
   ]
  },
  {
   "cell_type": "raw",
   "id": "aa6f89b1",
   "metadata": {},
   "source": [
    "list(clinicalx)"
   ]
  },
  {
   "cell_type": "raw",
   "id": "38ce7132",
   "metadata": {},
   "source": [
    "clinical = pd.DataFrame()\n",
    "\n",
    "for patid in resd.index.values:\n",
    "    sub = clinicalx[clinicalx['ID'] == patid]\n",
    "    clinical = clinical.append(sub)"
   ]
  },
  {
   "cell_type": "raw",
   "id": "f9a2be28",
   "metadata": {},
   "source": [
    "clinical = clinical.rename(index=dict(zip(list(clinical.index.values), list(clinical['ID']))))\n",
    "clinical = clinical.replace({'M':0, 'F':1})    "
   ]
  },
  {
   "cell_type": "raw",
   "id": "65a355f5",
   "metadata": {},
   "source": [
    "sub0 = clinical[clinical['Psuedo'] == 0]\n",
    "sub1 = clinical[clinical['Psuedo'] == 1]\n",
    "means0 = sub0.mean().round(3)\n",
    "means1 = sub1.mean().round(3)\n",
    "\n",
    "pvals = []\n",
    "cols = list(clinical)[1:]\n",
    "\n",
    "for i in range(len(cols)):\n",
    "    col = cols[i]\n",
    "    pvals.append(np.round(ttest_ind(sub0[col],sub1[col])[1],3))"
   ]
  },
  {
   "cell_type": "raw",
   "id": "f6889e02",
   "metadata": {},
   "source": [
    "df = pd.DataFrame([means0.values,means1.values,pvals], columns = list(clinical)[1:])\n",
    "df.index = [\"True Progression\", \"Psuedoprogression\",\"p-val\"]\n",
    "df = df.drop('Psuedo', axis=1)\n",
    "df.transpose()"
   ]
  },
  {
   "cell_type": "raw",
   "id": "515da274",
   "metadata": {},
   "source": [
    "clinical['Age'] = (clinical['Age'] / 50) "
   ]
  },
  {
   "cell_type": "raw",
   "id": "8b811b1d",
   "metadata": {},
   "source": [
    "from sklearn.linear_model import LogisticRegression"
   ]
  },
  {
   "cell_type": "raw",
   "id": "8dbe9a05",
   "metadata": {},
   "source": [
    "pats = np.random.choice(resd.index.values, 9, replace=False)"
   ]
  },
  {
   "cell_type": "raw",
   "id": "0169c4d7",
   "metadata": {},
   "source": [
    "rows = 3\n",
    "fig,ax = plt.subplots(rows, int(len(pats) / rows), figsize=(11,(2*rows)))\n",
    "\n",
    "row_idx = -1\n",
    "col_idx = 0\n",
    "for x in range(len(pats)):\n",
    "    if x % 3 == 0:\n",
    "        row_idx += 1\n",
    "    if col_idx % 3 == 0:\n",
    "        col_idx = 0\n",
    "    \n",
    "    ax[row_idx,col_idx].plot(resd.loc[pats[x]])\n",
    "    ax[row_idx,col_idx].set_title(\"Patient %s : %s\" % (pats[x], clinical.loc[pats[x]]['Psuedo']))\n",
    "    ax[row_idx,col_idx].set_yticklabels([])\n",
    "    ax[row_idx,col_idx].set_xticklabels([])\n",
    "    \n",
    "    col_idx += 1\n",
    "\n",
    "plt.suptitle('Density Chart for Patients')\n",
    "plt.savefig(\"Fig1.png\")"
   ]
  },
  {
   "cell_type": "markdown",
   "id": "41156ca4",
   "metadata": {},
   "source": [
    "## LOOCV"
   ]
  },
  {
   "cell_type": "code",
   "execution_count": 200,
   "id": "7945ac5b",
   "metadata": {},
   "outputs": [],
   "source": [
    "from sklearn.metrics import roc_auc_score"
   ]
  },
  {
   "cell_type": "code",
   "execution_count": 201,
   "id": "4029e2b5",
   "metadata": {},
   "outputs": [],
   "source": [
    "includedFeats = [x for x in list(clinical) if x != \"ID\" and \"Psuedo\" not in x]"
   ]
  },
  {
   "cell_type": "markdown",
   "id": "60e6e2ce",
   "metadata": {},
   "source": [
    "## Calculate results"
   ]
  },
  {
   "cell_type": "raw",
   "id": "0de821b4",
   "metadata": {},
   "source": [
    "idx_dict[criteria cutoff][patient number/fold]"
   ]
  },
  {
   "cell_type": "markdown",
   "id": "5bd31dde",
   "metadata": {},
   "source": [
    "Here, I'm redoing the calculation of importance because I need std cutoffs to be done for each fold for each criteria so the test data is not included as part of the calculations. Then, for all criteria and all folds, I will calculate the importance"
   ]
  },
  {
   "cell_type": "markdown",
   "id": "4f1fd004",
   "metadata": {},
   "source": [
    "We attempt to create an ensemble model to predict based off of density features.  In order to drop out density features which have not changed, we build a small ensemble model which cuts out features up to less than 1 pixel std. So we deem differences in 1 pixel to be possibly important"
   ]
  },
  {
   "cell_type": "code",
   "execution_count": 182,
   "id": "35fd4668",
   "metadata": {
    "scrolled": true,
    "tags": []
   },
   "outputs": [
    {
     "data": {
      "application/vnd.jupyter.widget-view+json": {
       "model_id": "243fcf74277d4e7991309f89f1df5e71",
       "version_major": 2,
       "version_minor": 0
      },
      "text/plain": [
       "0it [00:00, ?it/s]"
      ]
     },
     "metadata": {},
     "output_type": "display_data"
    },
    {
     "name": "stdout",
     "output_type": "stream",
     "text": [
      "0 1.0\n",
      "0 1.0\n",
      "0 0.0\n",
      "0 1.0\n",
      "0 1.0\n",
      "0 1.0\n",
      "0 0.0\n",
      "0 0.0\n",
      "0 0.0\n",
      "0 0.0\n",
      "0 0.0\n",
      "0 0.0\n",
      "0 0.0\n",
      "0 0.0\n",
      "0 0.0\n",
      "0 0.0\n",
      "0 0.0\n",
      "0 0.0\n",
      "0 0.0\n",
      "0 0.0\n",
      "0 0.0\n",
      "0 0.0\n",
      "0 0.0\n",
      "0 0.0\n",
      "0 0.0\n",
      "0 0.0\n",
      "0 0.0\n",
      "0 0.0\n",
      "0 0.0\n",
      "0 0.0\n",
      "0 0.0\n",
      "1 0.0\n",
      "1 1.0\n",
      "1 0.0\n",
      "1 0.0\n",
      "1 0.0\n",
      "1 0.0\n",
      "1 0.0\n",
      "1 0.0\n",
      "1 0.0\n",
      "1 0.0\n",
      "1 0.0\n",
      "1 0.0\n",
      "1 0.0\n",
      "1 0.0\n",
      "1 0.0\n",
      "1 0.0\n",
      "1 0.0\n",
      "1 0.0\n",
      "1 0.0\n",
      "1 0.0\n",
      "1 0.0\n",
      "1 0.0\n",
      "1 0.0\n",
      "1 0.0\n",
      "1 0.0\n",
      "1 0.0\n",
      "1 0.0\n",
      "1 0.0\n",
      "1 0.0\n",
      "1 0.0\n",
      "1 0.0\n",
      "0 1.0\n",
      "0 1.0\n",
      "0 1.0\n",
      "0 1.0\n",
      "0 1.0\n",
      "0 1.0\n",
      "0 1.0\n",
      "0 1.0\n",
      "0 1.0\n",
      "0 1.0\n",
      "0 1.0\n",
      "0 1.0\n",
      "0 1.0\n",
      "0 1.0\n",
      "0 1.0\n",
      "0 1.0\n",
      "0 1.0\n",
      "0 1.0\n",
      "0 1.0\n",
      "0 1.0\n",
      "0 1.0\n",
      "0 1.0\n",
      "0 1.0\n",
      "0 1.0\n",
      "0 1.0\n",
      "0 1.0\n",
      "0 1.0\n",
      "0 1.0\n",
      "0 1.0\n",
      "0 1.0\n",
      "0 1.0\n",
      "0 0.0\n",
      "0 0.0\n",
      "0 0.0\n",
      "0 0.0\n",
      "0 1.0\n",
      "0 1.0\n",
      "0 0.0\n",
      "0 0.0\n",
      "0 0.0\n",
      "0 0.0\n",
      "0 1.0\n",
      "0 1.0\n",
      "0 1.0\n",
      "0 1.0\n",
      "0 1.0\n",
      "0 1.0\n",
      "0 1.0\n",
      "0 1.0\n",
      "0 1.0\n",
      "0 1.0\n",
      "0 1.0\n",
      "0 1.0\n",
      "0 1.0\n",
      "0 1.0\n",
      "0 1.0\n",
      "0 1.0\n",
      "0 1.0\n",
      "0 1.0\n",
      "0 1.0\n",
      "0 1.0\n",
      "0 1.0\n",
      "0 1.0\n",
      "0 1.0\n",
      "0 1.0\n",
      "0 1.0\n",
      "0 1.0\n",
      "0 1.0\n",
      "0 1.0\n",
      "0 1.0\n",
      "0 1.0\n",
      "0 1.0\n",
      "0 1.0\n",
      "0 1.0\n",
      "0 1.0\n",
      "0 1.0\n",
      "0 1.0\n",
      "0 1.0\n",
      "0 1.0\n",
      "0 1.0\n",
      "0 1.0\n",
      "0 1.0\n",
      "0 1.0\n",
      "0 1.0\n",
      "0 1.0\n",
      "0 1.0\n",
      "0 1.0\n",
      "0 1.0\n",
      "0 1.0\n",
      "0 1.0\n",
      "0 1.0\n",
      "0 1.0\n",
      "0 1.0\n",
      "0 1.0\n",
      "0 0.0\n",
      "0 0.0\n",
      "0 0.0\n",
      "0 0.0\n",
      "0 0.0\n",
      "0 0.0\n",
      "0 0.0\n",
      "0 0.0\n",
      "0 0.0\n",
      "0 0.0\n",
      "0 0.0\n",
      "0 0.0\n",
      "0 0.0\n",
      "0 0.0\n",
      "0 0.0\n",
      "0 0.0\n",
      "0 0.0\n",
      "0 0.0\n",
      "0 0.0\n",
      "0 0.0\n",
      "0 0.0\n",
      "0 0.0\n",
      "0 0.0\n",
      "0 0.0\n",
      "0 0.0\n",
      "0 0.0\n",
      "0 0.0\n",
      "0 0.0\n",
      "0 0.0\n",
      "0 0.0\n",
      "1 0.0\n",
      "1 0.0\n",
      "1 1.0\n",
      "1 1.0\n",
      "1 0.0\n",
      "1 0.0\n",
      "1 1.0\n",
      "1 1.0\n",
      "1 1.0\n",
      "1 1.0\n",
      "1 1.0\n",
      "1 1.0\n",
      "1 1.0\n",
      "1 1.0\n",
      "1 1.0\n",
      "1 1.0\n",
      "1 1.0\n",
      "1 0.0\n",
      "1 0.0\n",
      "1 0.0\n",
      "1 0.0\n",
      "1 0.0\n",
      "1 0.0\n",
      "1 0.0\n",
      "1 0.0\n",
      "1 0.0\n",
      "1 0.0\n",
      "1 0.0\n",
      "1 0.0\n",
      "1 0.0\n",
      "1 0.0\n",
      "0 0.0\n",
      "0 0.0\n",
      "0 0.0\n",
      "0 0.0\n",
      "0 0.0\n",
      "0 0.0\n",
      "0 0.0\n",
      "0 0.0\n",
      "0 0.0\n",
      "0 0.0\n",
      "0 0.0\n",
      "0 0.0\n",
      "0 0.0\n",
      "0 0.0\n",
      "0 0.0\n",
      "0 0.0\n",
      "0 0.0\n",
      "0 0.0\n",
      "0 0.0\n",
      "0 0.0\n",
      "0 0.0\n",
      "0 0.0\n",
      "0 0.0\n",
      "0 0.0\n",
      "0 0.0\n",
      "0 0.0\n",
      "0 0.0\n",
      "0 0.0\n",
      "0 0.0\n",
      "0 0.0\n",
      "0 0.0\n",
      "0 0.0\n",
      "0 0.0\n",
      "0 0.0\n",
      "0 0.0\n",
      "0 0.0\n",
      "0 0.0\n",
      "0 0.0\n",
      "0 0.0\n",
      "0 0.0\n",
      "0 0.0\n",
      "0 0.0\n",
      "0 0.0\n",
      "0 0.0\n",
      "0 0.0\n",
      "0 0.0\n",
      "0 0.0\n",
      "0 0.0\n",
      "0 0.0\n",
      "0 0.0\n",
      "0 0.0\n",
      "0 0.0\n",
      "0 0.0\n",
      "0 0.0\n",
      "0 0.0\n",
      "0 0.0\n",
      "0 0.0\n",
      "0 0.0\n",
      "0 0.0\n",
      "0 0.0\n",
      "0 0.0\n",
      "0 0.0\n",
      "0 1.0\n",
      "0 1.0\n",
      "0 1.0\n",
      "0 1.0\n",
      "0 1.0\n",
      "0 1.0\n",
      "0 1.0\n",
      "0 1.0\n",
      "0 1.0\n",
      "0 1.0\n",
      "0 1.0\n",
      "0 1.0\n",
      "0 1.0\n",
      "0 1.0\n",
      "0 1.0\n",
      "0 1.0\n",
      "0 1.0\n",
      "0 1.0\n",
      "0 1.0\n",
      "0 1.0\n",
      "0 1.0\n",
      "0 1.0\n",
      "0 1.0\n",
      "0 1.0\n",
      "0 1.0\n",
      "0 1.0\n",
      "0 1.0\n",
      "0 1.0\n",
      "0 1.0\n",
      "0 1.0\n",
      "0 1.0\n",
      "0 1.0\n",
      "0 1.0\n",
      "0 1.0\n",
      "0 1.0\n",
      "0 1.0\n",
      "0 1.0\n",
      "0 1.0\n",
      "0 1.0\n",
      "0 1.0\n",
      "0 1.0\n",
      "0 1.0\n",
      "0 1.0\n",
      "0 0.0\n",
      "0 1.0\n",
      "0 0.0\n",
      "0 0.0\n",
      "0 0.0\n",
      "0 1.0\n",
      "0 1.0\n",
      "0 0.0\n",
      "0 0.0\n",
      "0 0.0\n",
      "0 0.0\n",
      "0 0.0\n",
      "0 0.0\n",
      "0 0.0\n",
      "0 0.0\n",
      "0 0.0\n",
      "0 0.0\n",
      "0 0.0\n",
      "0 0.0\n",
      "0 0.0\n",
      "0 1.0\n",
      "0 1.0\n",
      "0 1.0\n",
      "0 1.0\n",
      "0 0.0\n",
      "0 0.0\n",
      "0 0.0\n",
      "0 0.0\n",
      "0 0.0\n",
      "0 0.0\n",
      "0 0.0\n",
      "0 1.0\n",
      "0 1.0\n",
      "0 1.0\n",
      "0 1.0\n",
      "0 1.0\n",
      "0 1.0\n",
      "0 1.0\n",
      "0 1.0\n",
      "0 1.0\n",
      "0 1.0\n",
      "0 1.0\n",
      "0 1.0\n",
      "0 1.0\n",
      "0 1.0\n",
      "0 1.0\n",
      "0 1.0\n",
      "0 1.0\n",
      "0 1.0\n",
      "0 1.0\n",
      "0 0.0\n",
      "0 0.0\n",
      "0 0.0\n",
      "0 0.0\n",
      "0 0.0\n",
      "0 0.0\n",
      "0 0.0\n",
      "0 0.0\n",
      "0 0.0\n",
      "0 0.0\n",
      "0 0.0\n",
      "0 0.0\n",
      "0 0.0\n",
      "0 0.0\n",
      "0 0.0\n",
      "0 0.0\n",
      "0 0.0\n",
      "0 0.0\n",
      "0 0.0\n",
      "0 0.0\n",
      "0 0.0\n",
      "0 0.0\n",
      "0 0.0\n",
      "0 0.0\n",
      "0 0.0\n",
      "0 0.0\n",
      "0 0.0\n",
      "0 0.0\n",
      "0 0.0\n",
      "0 0.0\n",
      "0 0.0\n",
      "0 0.0\n",
      "0 1.0\n",
      "0 0.0\n",
      "0 0.0\n",
      "0 0.0\n",
      "0 0.0\n",
      "0 0.0\n",
      "0 0.0\n",
      "0 0.0\n",
      "0 0.0\n",
      "0 0.0\n",
      "0 0.0\n",
      "0 0.0\n",
      "0 0.0\n",
      "0 0.0\n",
      "0 0.0\n",
      "0 0.0\n",
      "0 0.0\n",
      "0 0.0\n",
      "0 0.0\n",
      "0 0.0\n",
      "0 0.0\n",
      "0 0.0\n",
      "0 0.0\n",
      "0 0.0\n",
      "0 0.0\n",
      "0 0.0\n",
      "0 0.0\n",
      "0 0.0\n",
      "0 0.0\n",
      "0 0.0\n",
      "0 1.0\n",
      "0 1.0\n",
      "0 1.0\n",
      "0 1.0\n",
      "0 1.0\n",
      "0 1.0\n",
      "0 1.0\n",
      "0 1.0\n",
      "0 1.0\n",
      "0 1.0\n",
      "0 1.0\n",
      "0 1.0\n",
      "0 1.0\n",
      "0 1.0\n",
      "0 1.0\n",
      "0 1.0\n",
      "0 1.0\n",
      "0 1.0\n",
      "0 1.0\n",
      "0 1.0\n",
      "0 1.0\n",
      "0 1.0\n",
      "0 1.0\n",
      "0 1.0\n",
      "0 1.0\n",
      "0 1.0\n",
      "0 1.0\n",
      "0 1.0\n",
      "0 1.0\n",
      "0 1.0\n",
      "0 1.0\n",
      "0 1.0\n",
      "0 1.0\n",
      "0 0.0\n",
      "0 0.0\n",
      "0 0.0\n",
      "0 1.0\n",
      "0 0.0\n",
      "0 0.0\n",
      "0 0.0\n",
      "0 0.0\n",
      "0 0.0\n",
      "0 0.0\n",
      "0 0.0\n",
      "0 0.0\n",
      "0 0.0\n",
      "0 0.0\n",
      "0 0.0\n",
      "0 0.0\n",
      "0 0.0\n",
      "0 0.0\n",
      "0 0.0\n",
      "0 0.0\n",
      "0 0.0\n",
      "0 0.0\n",
      "0 0.0\n",
      "0 0.0\n",
      "0 0.0\n",
      "0 0.0\n",
      "0 0.0\n",
      "0 0.0\n",
      "0 0.0\n",
      "0 1.0\n",
      "0 0.0\n",
      "0 0.0\n",
      "0 0.0\n",
      "0 0.0\n",
      "0 0.0\n",
      "0 0.0\n",
      "0 0.0\n",
      "0 0.0\n",
      "0 0.0\n",
      "0 0.0\n",
      "0 0.0\n",
      "0 0.0\n",
      "0 0.0\n",
      "0 0.0\n",
      "0 0.0\n",
      "0 0.0\n",
      "0 0.0\n",
      "0 0.0\n",
      "0 0.0\n",
      "0 0.0\n",
      "0 0.0\n",
      "0 0.0\n",
      "0 0.0\n",
      "0 0.0\n",
      "0 0.0\n",
      "0 0.0\n",
      "0 0.0\n",
      "0 0.0\n",
      "0 0.0\n",
      "0 0.0\n",
      "1 0.0\n",
      "1 1.0\n",
      "1 1.0\n",
      "1 1.0\n",
      "1 1.0\n",
      "1 1.0\n",
      "1 1.0\n",
      "1 1.0\n",
      "1 1.0\n",
      "1 1.0\n",
      "1 1.0\n",
      "1 1.0\n",
      "1 1.0\n",
      "1 1.0\n",
      "1 1.0\n",
      "1 1.0\n",
      "1 1.0\n",
      "1 1.0\n",
      "1 1.0\n",
      "1 1.0\n",
      "1 1.0\n",
      "1 1.0\n",
      "1 1.0\n",
      "1 1.0\n",
      "1 1.0\n",
      "1 1.0\n",
      "1 1.0\n",
      "1 1.0\n",
      "1 1.0\n",
      "1 1.0\n",
      "1 1.0\n",
      "0 1.0\n",
      "0 0.0\n",
      "0 0.0\n",
      "0 0.0\n",
      "0 0.0\n",
      "0 0.0\n",
      "0 0.0\n",
      "0 0.0\n",
      "0 0.0\n",
      "0 0.0\n",
      "0 0.0\n",
      "0 0.0\n",
      "0 0.0\n",
      "0 0.0\n",
      "0 0.0\n",
      "0 0.0\n",
      "0 0.0\n",
      "0 0.0\n",
      "0 0.0\n",
      "0 0.0\n",
      "0 0.0\n",
      "0 0.0\n",
      "0 0.0\n",
      "0 0.0\n",
      "0 0.0\n",
      "0 0.0\n",
      "0 0.0\n",
      "0 0.0\n",
      "0 0.0\n",
      "0 0.0\n",
      "0 0.0\n",
      "0 0.0\n",
      "0 1.0\n",
      "0 0.0\n",
      "0 0.0\n",
      "0 0.0\n",
      "0 0.0\n",
      "0 0.0\n",
      "0 0.0\n",
      "0 0.0\n",
      "0 0.0\n",
      "0 0.0\n",
      "0 0.0\n",
      "0 0.0\n",
      "0 0.0\n",
      "0 0.0\n",
      "0 0.0\n",
      "0 0.0\n",
      "0 0.0\n",
      "0 0.0\n",
      "0 0.0\n",
      "0 0.0\n",
      "0 0.0\n",
      "0 0.0\n",
      "0 0.0\n",
      "0 0.0\n",
      "0 0.0\n",
      "0 0.0\n",
      "0 0.0\n",
      "0 0.0\n",
      "0 0.0\n",
      "0 0.0\n",
      "0 1.0\n",
      "0 0.0\n",
      "0 0.0\n",
      "0 0.0\n",
      "0 0.0\n",
      "0 0.0\n",
      "0 0.0\n",
      "0 0.0\n",
      "0 0.0\n",
      "0 0.0\n",
      "0 0.0\n",
      "0 0.0\n",
      "0 0.0\n",
      "0 0.0\n",
      "0 0.0\n",
      "0 0.0\n",
      "0 0.0\n",
      "0 0.0\n",
      "0 0.0\n",
      "0 0.0\n",
      "0 0.0\n",
      "0 0.0\n",
      "0 0.0\n",
      "0 0.0\n",
      "0 0.0\n",
      "0 0.0\n",
      "0 0.0\n",
      "0 0.0\n",
      "0 0.0\n",
      "0 0.0\n",
      "0 0.0\n",
      "0 1.0\n",
      "0 1.0\n",
      "0 1.0\n",
      "0 0.0\n",
      "0 0.0\n",
      "0 1.0\n",
      "0 1.0\n",
      "0 1.0\n",
      "0 1.0\n",
      "0 1.0\n",
      "0 1.0\n",
      "0 1.0\n",
      "0 1.0\n",
      "0 1.0\n",
      "0 1.0\n",
      "0 1.0\n",
      "0 1.0\n",
      "0 1.0\n",
      "0 1.0\n",
      "0 1.0\n",
      "0 1.0\n",
      "0 1.0\n",
      "0 1.0\n",
      "0 1.0\n",
      "0 1.0\n",
      "0 1.0\n",
      "0 1.0\n",
      "0 1.0\n",
      "0 1.0\n",
      "0 1.0\n",
      "0 1.0\n",
      "0 0.0\n",
      "0 1.0\n",
      "0 0.0\n",
      "0 0.0\n",
      "0 0.0\n",
      "0 0.0\n",
      "0 0.0\n",
      "0 0.0\n",
      "0 0.0\n",
      "0 0.0\n",
      "0 0.0\n",
      "0 0.0\n",
      "0 0.0\n",
      "0 0.0\n",
      "0 0.0\n",
      "0 0.0\n",
      "0 0.0\n",
      "0 0.0\n",
      "0 0.0\n",
      "0 0.0\n",
      "0 0.0\n",
      "0 0.0\n",
      "0 0.0\n",
      "0 0.0\n",
      "0 0.0\n",
      "0 0.0\n",
      "0 0.0\n",
      "0 0.0\n",
      "0 0.0\n",
      "0 0.0\n",
      "0 0.0\n",
      "0 1.0\n",
      "0 1.0\n",
      "0 0.0\n",
      "0 0.0\n",
      "0 0.0\n",
      "0 0.0\n",
      "0 0.0\n",
      "0 0.0\n",
      "0 0.0\n",
      "0 0.0\n",
      "0 0.0\n",
      "0 0.0\n",
      "0 1.0\n",
      "0 1.0\n",
      "0 0.0\n",
      "0 0.0\n",
      "0 0.0\n",
      "0 0.0\n",
      "0 0.0\n",
      "0 0.0\n",
      "0 0.0\n",
      "0 0.0\n",
      "0 0.0\n",
      "0 0.0\n",
      "0 0.0\n",
      "0 0.0\n",
      "0 0.0\n",
      "0 0.0\n",
      "0 0.0\n",
      "0 0.0\n",
      "0 0.0\n",
      "0 1.0\n",
      "0 0.0\n",
      "0 0.0\n",
      "0 0.0\n",
      "0 0.0\n",
      "0 0.0\n",
      "0 0.0\n",
      "0 0.0\n",
      "0 0.0\n",
      "0 0.0\n",
      "0 0.0\n",
      "0 0.0\n",
      "0 0.0\n",
      "0 0.0\n",
      "0 0.0\n",
      "0 0.0\n",
      "0 0.0\n",
      "0 0.0\n",
      "0 0.0\n",
      "0 0.0\n",
      "0 0.0\n",
      "0 0.0\n",
      "0 0.0\n",
      "0 0.0\n",
      "0 0.0\n",
      "0 0.0\n",
      "0 0.0\n",
      "0 0.0\n",
      "0 0.0\n",
      "0 0.0\n",
      "0 0.0\n",
      "0 1.0\n",
      "0 0.0\n",
      "0 0.0\n",
      "0 0.0\n",
      "0 0.0\n",
      "0 0.0\n",
      "0 0.0\n",
      "0 0.0\n",
      "0 0.0\n",
      "0 0.0\n",
      "0 0.0\n",
      "0 0.0\n",
      "0 0.0\n",
      "0 0.0\n",
      "0 0.0\n",
      "0 0.0\n",
      "0 0.0\n",
      "0 0.0\n",
      "0 0.0\n",
      "0 0.0\n",
      "0 0.0\n",
      "0 0.0\n",
      "0 0.0\n",
      "0 0.0\n",
      "0 0.0\n",
      "0 0.0\n",
      "0 0.0\n",
      "0 0.0\n",
      "0 0.0\n",
      "0 0.0\n",
      "0 0.0\n",
      "1 0.0\n",
      "1 1.0\n",
      "1 1.0\n",
      "1 1.0\n",
      "1 1.0\n",
      "1 1.0\n",
      "1 1.0\n",
      "1 1.0\n",
      "1 1.0\n",
      "1 1.0\n",
      "1 0.0\n",
      "1 0.0\n",
      "1 0.0\n",
      "1 0.0\n",
      "1 1.0\n",
      "1 1.0\n",
      "1 1.0\n",
      "1 1.0\n",
      "1 1.0\n",
      "1 1.0\n",
      "1 1.0\n",
      "1 1.0\n",
      "1 1.0\n",
      "1 1.0\n",
      "1 1.0\n",
      "1 1.0\n",
      "1 1.0\n",
      "1 1.0\n",
      "1 1.0\n",
      "1 1.0\n",
      "1 1.0\n",
      "1 0.0\n",
      "1 0.0\n",
      "1 0.0\n",
      "1 0.0\n",
      "1 0.0\n",
      "1 0.0\n",
      "1 0.0\n",
      "1 0.0\n",
      "1 0.0\n",
      "1 0.0\n",
      "1 0.0\n",
      "1 0.0\n",
      "1 0.0\n",
      "1 0.0\n",
      "1 0.0\n",
      "1 0.0\n",
      "1 0.0\n",
      "1 0.0\n",
      "1 0.0\n",
      "1 0.0\n",
      "1 0.0\n",
      "1 0.0\n",
      "1 0.0\n",
      "1 0.0\n",
      "1 0.0\n",
      "1 0.0\n",
      "1 0.0\n",
      "1 0.0\n",
      "1 0.0\n",
      "1 0.0\n",
      "1 0.0\n",
      "0 1.0\n",
      "0 1.0\n",
      "0 1.0\n",
      "0 1.0\n",
      "0 1.0\n",
      "0 1.0\n",
      "0 1.0\n",
      "0 1.0\n",
      "0 1.0\n",
      "0 1.0\n",
      "0 1.0\n",
      "0 1.0\n",
      "0 1.0\n",
      "0 1.0\n",
      "0 1.0\n",
      "0 1.0\n",
      "0 1.0\n",
      "0 1.0\n",
      "0 1.0\n",
      "0 1.0\n",
      "0 1.0\n",
      "0 1.0\n",
      "0 1.0\n",
      "0 1.0\n",
      "0 1.0\n",
      "0 1.0\n",
      "0 1.0\n",
      "0 1.0\n",
      "0 1.0\n",
      "0 1.0\n",
      "0 1.0\n",
      "1 1.0\n",
      "1 1.0\n",
      "1 1.0\n",
      "1 1.0\n",
      "1 1.0\n",
      "1 1.0\n",
      "1 1.0\n",
      "1 1.0\n",
      "1 1.0\n",
      "1 1.0\n",
      "1 1.0\n",
      "1 1.0\n",
      "1 1.0\n",
      "1 1.0\n",
      "1 1.0\n",
      "1 1.0\n",
      "1 1.0\n",
      "1 1.0\n",
      "1 1.0\n",
      "1 1.0\n",
      "1 1.0\n",
      "1 1.0\n",
      "1 1.0\n",
      "1 1.0\n",
      "1 1.0\n",
      "1 1.0\n",
      "1 1.0\n",
      "1 1.0\n",
      "1 1.0\n",
      "1 1.0\n",
      "1 1.0\n",
      "1 0.0\n",
      "1 1.0\n",
      "1 0.0\n",
      "1 0.0\n",
      "1 0.0\n",
      "1 0.0\n",
      "1 0.0\n",
      "1 0.0\n",
      "1 0.0\n",
      "1 0.0\n",
      "1 0.0\n",
      "1 0.0\n",
      "1 0.0\n",
      "1 0.0\n",
      "1 0.0\n",
      "1 0.0\n",
      "1 0.0\n",
      "1 0.0\n",
      "1 0.0\n",
      "1 0.0\n",
      "1 0.0\n",
      "1 0.0\n",
      "1 0.0\n",
      "1 0.0\n",
      "1 0.0\n",
      "1 0.0\n",
      "1 0.0\n",
      "1 0.0\n",
      "1 0.0\n",
      "1 0.0\n",
      "1 0.0\n",
      "0 0.0\n",
      "0 1.0\n",
      "0 0.0\n",
      "0 0.0\n",
      "0 0.0\n",
      "0 0.0\n",
      "0 0.0\n",
      "0 0.0\n",
      "0 0.0\n",
      "0 0.0\n",
      "0 0.0\n",
      "0 0.0\n",
      "0 0.0\n",
      "0 0.0\n",
      "0 0.0\n",
      "0 0.0\n",
      "0 0.0\n",
      "0 0.0\n",
      "0 0.0\n",
      "0 0.0\n",
      "0 0.0\n",
      "0 0.0\n",
      "0 0.0\n",
      "0 0.0\n",
      "0 0.0\n",
      "0 0.0\n",
      "0 0.0\n",
      "0 0.0\n",
      "0 0.0\n",
      "0 0.0\n",
      "0 0.0\n",
      "0 1.0\n",
      "0 0.0\n",
      "0 0.0\n",
      "0 0.0\n",
      "0 0.0\n",
      "0 0.0\n",
      "0 0.0\n",
      "0 0.0\n",
      "0 0.0\n",
      "0 0.0\n",
      "0 0.0\n",
      "0 0.0\n",
      "0 0.0\n",
      "0 0.0\n",
      "0 0.0\n",
      "0 0.0\n",
      "0 0.0\n",
      "0 0.0\n",
      "0 0.0\n",
      "0 0.0\n",
      "0 0.0\n",
      "0 0.0\n",
      "0 0.0\n",
      "0 0.0\n",
      "0 0.0\n",
      "0 0.0\n",
      "0 0.0\n",
      "0 0.0\n",
      "0 0.0\n",
      "0 0.0\n",
      "0 0.0\n"
     ]
    }
   ],
   "source": [
    "auc_list = []\n",
    "coef = {}\n",
    "idx_dict = {}\n",
    "res = len(resd.iloc[0]) # resolution\n",
    "\n",
    "predicted = np.zeros((res, len(resd.index.values))) # 100 rows, patno cols\n",
    "#X2 = pd.merge(resd,clinical[includedFeats],left_index=True,right_index=True)\n",
    "\n",
    "for i,patno in tqdm(enumerate(resd.index.values)):\n",
    "    \n",
    "    X_test1 = resd.loc[patno]\n",
    "    X_test2 = clinical[includedFeats].loc[patno]\n",
    "    y_test = clinical.loc[patno]['Psuedo']\n",
    "    \n",
    "    X_train1 = resd.drop(patno)\n",
    "    X_train2 = clinical[includedFeats].drop(patno)\n",
    "    y_train = clinical.drop(patno)['Psuedo']\n",
    "    \n",
    "    for j in range(1,res):\n",
    "    \n",
    "        idx = [x for x in range(j)]\n",
    "        \n",
    "        #X_train = pd.merge(X_train1[idx], X_train2, left_index=True, right_index=True)\n",
    "        #X_test = X_test1[idx].append(X_test2)\n",
    "        \n",
    "        X_train = X_train1[idx]\n",
    "        X_test = X_test1[idx]\n",
    "        \n",
    "        #print(X_train.shape)\n",
    "        \n",
    "        if j not in idx_dict:\n",
    "            idx_dict[j] = {}\n",
    "        idx_dict[j][i] = idx\n",
    "    \n",
    "        clf = LogisticRegression(max_iter=3000, class_weight=\"balanced\") # 3000\n",
    "        #clf = svm.SVC(class_weight=\"balanced\", C=50)\n",
    "        \n",
    "        clf.fit(X_train, y_train)\n",
    "        predicted[j-1][i] = predicted[j-1][i] + clf.predict(np.reshape(X_test.values,(1,-1))).astype('float64')[0] #[1]\n",
    "        print(y_test, predicted[j-1][i])\n",
    "        if j not in coef:\n",
    "            coef[j] = {}\n",
    "        coef[j][i] = clf.coef_"
   ]
  },
  {
   "cell_type": "markdown",
   "id": "665c3934",
   "metadata": {},
   "source": [
    "# LOOCV"
   ]
  },
  {
   "cell_type": "code",
   "execution_count": 183,
   "id": "0a33f966",
   "metadata": {},
   "outputs": [
    {
     "data": {
      "text/plain": [
       "array([[1., 0., 1., ..., 0., 0., 1.],\n",
       "       [1., 1., 1., ..., 1., 1., 0.],\n",
       "       [0., 0., 1., ..., 0., 0., 0.],\n",
       "       ...,\n",
       "       [0., 0., 1., ..., 0., 0., 0.],\n",
       "       [0., 0., 1., ..., 0., 0., 0.],\n",
       "       [0., 0., 0., ..., 0., 0., 0.]])"
      ]
     },
     "execution_count": 183,
     "metadata": {},
     "output_type": "execute_result"
    }
   ],
   "source": [
    "predicted"
   ]
  },
  {
   "cell_type": "code",
   "execution_count": 184,
   "id": "995a5e94",
   "metadata": {},
   "outputs": [],
   "source": [
    "auc_list = []\n",
    "for i in range(res):\n",
    "    auc_list.append(roc_auc_score(clinical['Psuedo'], predicted[i,:]))"
   ]
  },
  {
   "cell_type": "code",
   "execution_count": 185,
   "id": "4dbbce33",
   "metadata": {},
   "outputs": [
    {
     "data": {
      "text/plain": [
       "(0.6510989010989011, 6)"
      ]
     },
     "execution_count": 185,
     "metadata": {},
     "output_type": "execute_result"
    }
   ],
   "source": [
    "np.max(auc_list), np.argmax(auc_list)"
   ]
  },
  {
   "cell_type": "code",
   "execution_count": 203,
   "id": "aae6f544",
   "metadata": {},
   "outputs": [],
   "source": [
    "%matplotlib inline"
   ]
  },
  {
   "cell_type": "code",
   "execution_count": 205,
   "id": "272bb9f1",
   "metadata": {},
   "outputs": [
    {
     "data": {
      "image/png": "[encoded data removed]",
      "text/plain": [
       "<Figure size 432x288 with 1 Axes>"
      ]
     },
     "metadata": {
      "needs_background": "light"
     },
     "output_type": "display_data"
    }
   ],
   "source": [
    "##### plt.title('Leave One Out CV')\n",
    "plt.plot(range(2,len(auc_list)+1), auc_list[1:])\n",
    "plt.savefig(\"Fig3.png\")"
   ]
  },
  {
   "cell_type": "code",
   "execution_count": 188,
   "id": "3f50e634",
   "metadata": {},
   "outputs": [],
   "source": [
    "import seaborn as sns\n",
    "sns.set_theme(palette=\"Set2\")"
   ]
  },
  {
   "cell_type": "code",
   "execution_count": 189,
   "id": "286eb856",
   "metadata": {},
   "outputs": [
    {
     "data": {
      "text/plain": [
       "Text(0, 0.5, 'AUC')"
      ]
     },
     "execution_count": 189,
     "metadata": {},
     "output_type": "execute_result"
    },
    {
     "data": {
      "image/png": "[encoded data removed]",
      "text/plain": [
       "<Figure size 288x432 with 1 Axes>"
      ]
     },
     "metadata": {},
     "output_type": "display_data"
    }
   ],
   "source": [
    "plt.subplots(figsize=(4,6))\n",
    "sns.violinplot(y=auc_list[1:])\n",
    "plt.title(\"AUC distribution\")\n",
    "plt.ylabel(\"AUC\")"
   ]
  },
  {
   "cell_type": "code",
   "execution_count": 190,
   "id": "0b2a1a3b",
   "metadata": {},
   "outputs": [
    {
     "data": {
      "text/plain": [
       "0.6318681318681318"
      ]
     },
     "execution_count": 190,
     "metadata": {},
     "output_type": "execute_result"
    }
   ],
   "source": [
    "auc_list[3]"
   ]
  },
  {
   "cell_type": "code",
   "execution_count": 191,
   "id": "557e3fe7",
   "metadata": {},
   "outputs": [
    {
     "data": {
      "text/plain": [
       "0.5770116979794401"
      ]
     },
     "execution_count": 191,
     "metadata": {},
     "output_type": "execute_result"
    }
   ],
   "source": [
    "# Mean of tests\n",
    "np.mean(auc_list[1:])"
   ]
  },
  {
   "cell_type": "code",
   "execution_count": 206,
   "id": "edfb6f51",
   "metadata": {},
   "outputs": [
    {
     "data": {
      "text/plain": [
       "0.0077708932308352885"
      ]
     },
     "execution_count": 206,
     "metadata": {},
     "output_type": "execute_result"
    }
   ],
   "source": [
    "# std err of tests\n",
    "np.std(auc_list[1:]) / np.sqrt(len(auc_list[1:]))"
   ]
  },
  {
   "cell_type": "markdown",
   "id": "9b2e539a",
   "metadata": {},
   "source": [
    "## TSNE"
   ]
  },
  {
   "cell_type": "code",
   "execution_count": 193,
   "id": "01572c36",
   "metadata": {},
   "outputs": [
    {
     "name": "stdout",
     "output_type": "stream",
     "text": [
      "[t-SNE] Computing 32 nearest neighbors...\n",
      "[t-SNE] Indexed 33 samples in 0.000s...\n",
      "[t-SNE] Computed neighbors for 33 samples in 0.003s...\n",
      "[t-SNE] Computed conditional probabilities for sample 33 / 33\n",
      "[t-SNE] Mean sigma: 16.410621\n",
      "[t-SNE] KL divergence after 250 iterations with early exaggeration: 48.038826\n",
      "[t-SNE] KL divergence after 1000 iterations: 0.247911\n"
     ]
    }
   ],
   "source": [
    "from sklearn.manifold import TSNE\n",
    "\n",
    "tsne = TSNE(n_components=2, verbose=1, perplexity=25, n_iter=1000)\n",
    "tsne_results = tsne.fit_transform(resd)"
   ]
  },
  {
   "cell_type": "code",
   "execution_count": 194,
   "id": "c9e8e94e",
   "metadata": {},
   "outputs": [],
   "source": [
    "%matplotlib inline"
   ]
  },
  {
   "cell_type": "code",
   "execution_count": 195,
   "id": "1b80b2ec",
   "metadata": {},
   "outputs": [],
   "source": [
    "tsne_results = pd.DataFrame(tsne_results)\n",
    "tsne_results.index = resd.index.values"
   ]
  },
  {
   "cell_type": "raw",
   "id": "d443c8c6",
   "metadata": {},
   "source": [
    "sub0 = sub0.drop('31-1')"
   ]
  },
  {
   "cell_type": "code",
   "execution_count": 196,
   "id": "4e195671",
   "metadata": {},
   "outputs": [
    {
     "data": {
      "image/png": "[encoded data removed]",
      "text/plain": [
       "<Figure size 432x288 with 1 Axes>"
      ]
     },
     "metadata": {
      "needs_background": "light"
     },
     "output_type": "display_data"
    }
   ],
   "source": [
    "for patno in sub0.index:\n",
    "    plt.scatter(tsne_results.loc[patno][0], tsne_results.loc[patno][1], c = 'r')\n",
    "    # identify outliers\n",
    "    #if resd.loc[patno][0] < -3:\n",
    "    #    print(patno)\n",
    "\n",
    "for patno in sub1.index:\n",
    "    plt.scatter(tsne_results.loc[patno][0], tsne_results.loc[patno][1], c = 'b')\n",
    "\n",
    "plt.show()"
   ]
  },
  {
   "cell_type": "markdown",
   "id": "315a0e24",
   "metadata": {},
   "source": [
    "# Plot PCs"
   ]
  },
  {
   "cell_type": "code",
   "execution_count": 197,
   "id": "f4e82430",
   "metadata": {},
   "outputs": [],
   "source": [
    "sub0 = clinical[clinical['Psuedo'] == 0]\n",
    "sub1 = clinical[clinical['Psuedo'] == 1]"
   ]
  },
  {
   "cell_type": "code",
   "execution_count": 198,
   "id": "8894f669",
   "metadata": {},
   "outputs": [
    {
     "name": "stdout",
     "output_type": "stream",
     "text": [
      "Using matplotlib backend: Qt5Agg\n"
     ]
    }
   ],
   "source": [
    "%matplotlib\n",
    "import seaborn as sns\n",
    "sns.set()"
   ]
  },
  {
   "cell_type": "code",
   "execution_count": 199,
   "id": "e2122869",
   "metadata": {},
   "outputs": [],
   "source": [
    "fig = plt.figure()\n",
    "ax = fig.add_subplot(projection='3d')\n",
    "\n",
    "a = 0\n",
    "angle = 80\n",
    "\n",
    "for patno in sub0.index:\n",
    "    ax.scatter(resd.loc[patno][a], resd.loc[patno][a+1], resd.loc[patno][a+2], c = 'r')\n",
    "    # identify outliers\n",
    "    #if resd.loc[patno][0] < -3:\n",
    "    #    print(patno)\n",
    "\n",
    "for patno in sub1.index:\n",
    "    ax.scatter(resd.loc[patno][a], resd.loc[patno][a+1], resd.loc[patno][a+2], c = 'b')\n",
    "\n",
    "# rotate the axes and update\n",
    "for angle in range(0, 360):\n",
    "    ax.view_init(30, angle)\n",
    "    plt.draw()\n",
    "    plt.pause(.001)\n"
   ]
  },
  {
   "cell_type": "markdown",
   "id": "6a62734e",
   "metadata": {},
   "source": [
    "# Check variance of PCs over folds"
   ]
  },
  {
   "cell_type": "code",
   "execution_count": 1525,
   "id": "3c61b7c7",
   "metadata": {},
   "outputs": [
    {
     "data": {
      "text/plain": [
       "(35, 33)"
      ]
     },
     "execution_count": 1525,
     "metadata": {},
     "output_type": "execute_result"
    }
   ],
   "source": [
    "data = pyreadr.read_r(\"PC_var.RData\")['PC_list']\n",
    "data.shape"
   ]
  },
  {
   "cell_type": "code",
   "execution_count": 524,
   "id": "fda28b95",
   "metadata": {},
   "outputs": [
    {
     "data": {
      "text/plain": [
       "Text(0, 0.5, '(Std of PCs over folds)/Mean')"
      ]
     },
     "execution_count": 524,
     "metadata": {},
     "output_type": "execute_result"
    },
    {
     "data": {
      "image/png": "[encoded data removed]",
      "text/plain": [
       "<Figure size 432x288 with 1 Axes>"
      ]
     },
     "metadata": {},
     "output_type": "display_data"
    }
   ],
   "source": [
    "plt.plot(data.std() / data.mean())\n",
    "plt.plot(data.std())\n",
    "plt.title(\"Variation of PCs over Folds\")\n",
    "plt.xlabel(\"PC\")\n",
    "plt.ylabel(\"(Std of PCs over folds)/Mean\")"
   ]
  },
  {
   "cell_type": "code",
   "execution_count": null,
   "id": "68ddea7c",
   "metadata": {},
   "outputs": [],
   "source": []
  }
 ],
 "metadata": {
  "kernelspec": {
   "display_name": "Python 3 (ipykernel)",
   "language": "python",
   "name": "python3"
  },
  "language_info": {
   "codemirror_mode": {
    "name": "ipython",
    "version": 3
   },
   "file_extension": ".py",
   "mimetype": "text/x-python",
   "name": "python",
   "nbconvert_exporter": "python",
   "pygments_lexer": "ipython3",
   "version": "3.9.13"
  }
 },
 "nbformat": 4,
 "nbformat_minor": 5
}
